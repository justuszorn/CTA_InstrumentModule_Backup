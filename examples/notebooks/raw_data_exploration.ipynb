{
 "cells": [
  {
   "cell_type": "markdown",
   "metadata": {},
   "source": [
    "# Exploring Raw Data with _ctapipe_\n",
    "\n",
    "Here are just some very simplistic examples of going through and inspecting the raw data, using only the very simple pieces that are implemented right now. "
   ]
  },
  {
   "cell_type": "code",
   "execution_count": 1,
   "metadata": {
    "collapsed": false
   },
   "outputs": [
    {
     "name": "stdout",
     "output_type": "stream",
     "text": [
      "path /home/jacquem/workspace/CTA/pyhessio/pyhessio\n"
     ]
    }
   ],
   "source": [
    "# some setup (need to import the things we will use later)\n",
    "from ctapipe.utils.datasets import get_path\n",
    "from ctapipe.io.hessio import hessio_event_source\n",
    "from ctapipe import visualization, io\n",
    "from matplotlib import pyplot as plt\n",
    "from astropy import units as u\n",
    "%matplotlib inline  "
   ]
  },
  {
   "cell_type": "markdown",
   "metadata": {},
   "source": [
    "to read HESSIO format data, one must first make sure you install the `pyhessioxxx` module separately (currently it is not included as part of ctapipe), and make sure it is in your `PYTHONPATH`.  Then the following line will work:"
   ]
  },
  {
   "cell_type": "code",
   "execution_count": 2,
   "metadata": {
    "collapsed": false
   },
   "outputs": [],
   "source": [
    "source = hessio_event_source(get_path(\"gamma_test.simtel.gz\"), max_events=100)"
   ]
  },
  {
   "cell_type": "markdown",
   "metadata": {},
   "source": [
    "## looking at what is in the event"
   ]
  },
  {
   "cell_type": "code",
   "execution_count": 3,
   "metadata": {
    "collapsed": false
   },
   "outputs": [
    {
     "name": "stderr",
     "output_type": "stream",
     "text": [
      "WARNING: ErfaWarning: ERFA function \"taiutc\" yielded 1 of \"dubious year (Note 4)\" [astropy._erfa.core]\n",
      "WARNING:astropy:ErfaWarning: ERFA function \"taiutc\" yielded 1 of \"dubious year (Note 4)\"\n"
     ]
    },
    {
     "name": "stdout",
     "output_type": "stream",
     "text": [
      "{'_meta': ctapipe.core.Container(\"meta\", hessio__max_events, hessio__input, pixel_pos),\n",
      " '_name': 'hessio_container',\n",
      " 'count': 0,\n",
      " 'dl0': ctapipe.io.containers.RawData(\"RawData\", tel, run_id, event_id, tels_with_data),\n",
      " 'mc': ctapipe.io.containers.MCShowerData(\"MCShowerData\", core_x, core_y, alt, az, energy),\n",
      " 'trig': ctapipe.io.containers.CentralTriggerData(\"CentralTriggerData\", tels_with_trigger, gps_time)}\n",
      "{'_name': 'RawData',\n",
      " 'event_id': 408,\n",
      " 'run_id': 31964,\n",
      " 'tel': {38: ctapipe.io.containers.RawCameraData(\"CT038\", adc_samples, adc_sums, num_channels),\n",
      "         47: ctapipe.io.containers.RawCameraData(\"CT047\", adc_samples, adc_sums, num_channels)},\n",
      " 'tels_with_data': {38, 47}}\n"
     ]
    }
   ],
   "source": [
    "event = next(source)  # get next event\n",
    "print(event)\n",
    "print(event.dl0)"
   ]
  },
  {
   "cell_type": "markdown",
   "metadata": {},
   "source": [
    "the event is just a class with a bunch of data items in it.  You can see a more compact represntation via:"
   ]
  },
  {
   "cell_type": "code",
   "execution_count": 4,
   "metadata": {
    "collapsed": false
   },
   "outputs": [
    {
     "name": "stdout",
     "output_type": "stream",
     "text": [
      "ctapipe.core.Container(\"hessio_container\", trig, dl0, count, mc)\n",
      "ctapipe.io.containers.RawData(\"RawData\", tel, run_id, event_id, tels_with_data)\n"
     ]
    }
   ],
   "source": [
    "print(repr(event))\n",
    "print(repr(event.dl0))"
   ]
  },
  {
   "cell_type": "code",
   "execution_count": 5,
   "metadata": {
    "collapsed": false
   },
   "outputs": [
    {
     "name": "stdout",
     "output_type": "stream",
     "text": [
      "{38, 47}\n"
     ]
    }
   ],
   "source": [
    "print(event.dl0.tels_with_data)"
   ]
  },
  {
   "cell_type": "markdown",
   "metadata": {},
   "source": [
    "note that the event has 2 telescopes in it: 38,40... Let's try the next one:"
   ]
  },
  {
   "cell_type": "code",
   "execution_count": 6,
   "metadata": {
    "collapsed": false
   },
   "outputs": [
    {
     "name": "stderr",
     "output_type": "stream",
     "text": [
      "WARNING: ErfaWarning: ERFA function \"taiutc\" yielded 1 of \"dubious year (Note 4)\" [astropy._erfa.core]\n",
      "WARNING:astropy:ErfaWarning: ERFA function \"taiutc\" yielded 1 of \"dubious year (Note 4)\"\n"
     ]
    },
    {
     "name": "stdout",
     "output_type": "stream",
     "text": [
      "{11, 21, 118, 119, 24, 26, 61, 63}\n"
     ]
    }
   ],
   "source": [
    "event = next(source) # get the next event\n",
    "print(event.dl0.tels_with_data)"
   ]
  },
  {
   "cell_type": "markdown",
   "metadata": {},
   "source": [
    "now, we have a larger event with many telescopes... Let's look at the data from **CT24**:"
   ]
  },
  {
   "cell_type": "code",
   "execution_count": 7,
   "metadata": {
    "collapsed": false
   },
   "outputs": [
    {
     "name": "stdout",
     "output_type": "stream",
     "text": [
      "{'_name': 'CT024',\n",
      " 'adc_samples': {0: array([[106, 110,  96, ...,  88,  95,  84],\n",
      "       [ 94,  97, 107, ...,  90,  92, 102],\n",
      "       [ 97,  90,  94, ...,  90,  87,  85],\n",
      "       ..., \n",
      "       [ 92,  85,  92, ...,  89,  95,  88],\n",
      "       [104, 101, 103, ..., 117, 126, 127],\n",
      "       [101,  99, 104, ...,  97,  97,  91]], dtype=uint16)},\n",
      " 'adc_sums': {0: array([2945, 3013, 2951, ..., 2771, 3152, 3017], dtype=int32)},\n",
      " 'num_channels': 1}\n"
     ]
    },
    {
     "data": {
      "text/plain": [
       "ctapipe.io.containers.RawCameraData(\"CT024\", adc_samples, adc_sums, num_channels)"
      ]
     },
     "execution_count": 7,
     "metadata": {},
     "output_type": "execute_result"
    }
   ],
   "source": [
    "teldata = event.dl0.tel[24]\n",
    "print(teldata)\n",
    "teldata"
   ]
  },
  {
   "cell_type": "markdown",
   "metadata": {},
   "source": [
    "again, `event.tel_data` contains a data structure for the telescope data, with some fields like `adc_samples`.\n",
    "\n",
    "Let's make a 2D plot of the sample data (sample vs pixel), so we can see if we see the event:"
   ]
  },
  {
   "cell_type": "code",
   "execution_count": 8,
   "metadata": {
    "collapsed": false
   },
   "outputs": [
    {
     "data": {
      "text/plain": [
       "<matplotlib.text.Text at 0x7fa2f30fbf98>"
      ]
     },
     "execution_count": 8,
     "metadata": {},
     "output_type": "execute_result"
    },
    {
     "name": "stderr",
     "output_type": "stream",
     "text": [
      "/home/jacquem/anaconda3/envs/cta/lib/python3.4/site-packages/matplotlib/collections.py:590: FutureWarning: elementwise comparison failed; returning scalar instead, but in the future will perform elementwise comparison\n",
      "  if self._edgecolors == str('face'):\n"
     ]
    },
    {
     "data": {
      "image/png": "[encoded data removed]",
      "text/plain": [
       "<matplotlib.figure.Figure at 0x7fa2f3152ef0>"
      ]
     },
     "metadata": {},
     "output_type": "display_data"
    }
   ],
   "source": [
    "plt.pcolormesh(teldata.adc_samples[0])  # note the [0] is for channel 0\n",
    "plt.xlabel(\"sample number\")\n",
    "plt.ylabel(\"Pixel_id\")"
   ]
  },
  {
   "cell_type": "markdown",
   "metadata": {},
   "source": [
    "Let's zoom in to see if we can identify the pixels that have the Cherenkov signal in them"
   ]
  },
  {
   "cell_type": "code",
   "execution_count": 9,
   "metadata": {
    "collapsed": false
   },
   "outputs": [
    {
     "name": "stdout",
     "output_type": "stream",
     "text": [
      "adc_samples[0] is an array of shape (N_pix,N_slice) = (1855, 30)\n"
     ]
    },
    {
     "name": "stderr",
     "output_type": "stream",
     "text": [
      "/home/jacquem/anaconda3/envs/cta/lib/python3.4/site-packages/matplotlib/collections.py:590: FutureWarning: elementwise comparison failed; returning scalar instead, but in the future will perform elementwise comparison\n",
      "  if self._edgecolors == str('face'):\n"
     ]
    },
    {
     "data": {
      "image/png": "[encoded data removed]",
      "text/plain": [
       "<matplotlib.figure.Figure at 0x7fa2f2ef3a20>"
      ]
     },
     "metadata": {},
     "output_type": "display_data"
    }
   ],
   "source": [
    "plt.pcolormesh(teldata.adc_samples[0])\n",
    "plt.ylim(260,290)\n",
    "plt.xlabel(\"sample number\")\n",
    "plt.ylabel(\"pixel_id\")\n",
    "print(\"adc_samples[0] is an array of shape (N_pix,N_slice) =\",teldata.adc_samples[0].shape)"
   ]
  },
  {
   "cell_type": "markdown",
   "metadata": {},
   "source": [
    "Now we can really see that some pixels have a signal in them!\n",
    "\n",
    "Lets look at a 1D plot of pixel 270 in channel 0 and see the signal:"
   ]
  },
  {
   "cell_type": "code",
   "execution_count": 10,
   "metadata": {
    "collapsed": false
   },
   "outputs": [
    {
     "data": {
      "text/plain": [
       "[<matplotlib.lines.Line2D at 0x7fa2f2c76828>]"
      ]
     },
     "execution_count": 10,
     "metadata": {},
     "output_type": "execute_result"
    },
    {
     "data": {
      "image/png": "[encoded data removed]",
      "text/plain": [
       "<matplotlib.figure.Figure at 0x7fa2f30bfb38>"
      ]
     },
     "metadata": {},
     "output_type": "display_data"
    }
   ],
   "source": [
    "trace = teldata.adc_samples[0][270]   \n",
    "plt.plot(trace)"
   ]
  },
  {
   "cell_type": "markdown",
   "metadata": {},
   "source": [
    "Great! It looks like a *standard Cherenkov signal*!\n",
    "\n",
    "Let's take a look at several traces to see if the peaks area aligned:"
   ]
  },
  {
   "cell_type": "code",
   "execution_count": 11,
   "metadata": {
    "collapsed": false
   },
   "outputs": [
    {
     "data": {
      "text/plain": [
       "<matplotlib.legend.Legend at 0x7fa2f2c87390>"
      ]
     },
     "execution_count": 11,
     "metadata": {},
     "output_type": "execute_result"
    },
    {
     "data": {
      "image/png": "[encoded data removed]",
      "text/plain": [
       "<matplotlib.figure.Figure at 0x7fa2f2c870f0>"
      ]
     },
     "metadata": {},
     "output_type": "display_data"
    }
   ],
   "source": [
    "for pix_id in [269,270,271,272,273,274,275,276]:\n",
    "    plt.plot(teldata.adc_samples[0][pix_id], label=\"pix {}\".format(pix_id))\n",
    "plt.legend()"
   ]
  },
  {
   "cell_type": "markdown",
   "metadata": {},
   "source": [
    "Let's define the integration windows first:\n",
    "\n",
    "By eye, they seem to be reaonsable from sample 8 to 13 for signal, and 20 to 29 for pedestal"
   ]
  },
  {
   "cell_type": "code",
   "execution_count": 12,
   "metadata": {
    "collapsed": false
   },
   "outputs": [
    {
     "data": {
      "text/plain": [
       "<matplotlib.collections.PolyCollection at 0x7fa2f2b15c50>"
      ]
     },
     "execution_count": 12,
     "metadata": {},
     "output_type": "execute_result"
    },
    {
     "name": "stderr",
     "output_type": "stream",
     "text": [
      "/home/jacquem/anaconda3/envs/cta/lib/python3.4/site-packages/matplotlib/collections.py:590: FutureWarning: elementwise comparison failed; returning scalar instead, but in the future will perform elementwise comparison\n",
      "  if self._edgecolors == str('face'):\n"
     ]
    },
    {
     "data": {
      "image/png": "[encoded data removed]",
      "text/plain": [
       "<matplotlib.figure.Figure at 0x7fa2f2c15dd8>"
      ]
     },
     "metadata": {},
     "output_type": "display_data"
    }
   ],
   "source": [
    "for pix_id in [269,270,271,272,273,274,275,276]:\n",
    "    plt.plot(teldata.adc_samples[0][pix_id],'+-')\n",
    "plt.fill_betweenx([0,1200],20,29,color='red',alpha=0.3)\n",
    "plt.fill_betweenx([0,1200],8,13,color='green',alpha=0.3)"
   ]
  },
  {
   "cell_type": "markdown",
   "metadata": {},
   "source": [
    "## Very simplisitic trace analysis:\n",
    "Now, let's for example calculate a signal and background in a the fixed windows we defined for this single event:"
   ]
  },
  {
   "cell_type": "code",
   "execution_count": 13,
   "metadata": {
    "collapsed": true
   },
   "outputs": [],
   "source": [
    "data = teldata.adc_samples[0]\n",
    "peds = data[:, 20:29].mean(axis=1)  # mean of samples 20 to 30 for all pixels\n",
    "sums = data[:, 8:13].sum(axis=1)/(13-8)    # simple sum integration"
   ]
  },
  {
   "cell_type": "code",
   "execution_count": 14,
   "metadata": {
    "collapsed": false
   },
   "outputs": [
    {
     "data": {
      "text/plain": [
       "<matplotlib.text.Text at 0x7fa2f2c22e80>"
      ]
     },
     "execution_count": 14,
     "metadata": {},
     "output_type": "execute_result"
    },
    {
     "data": {
      "image/png": "[encoded data removed]",
      "text/plain": [
       "<matplotlib.figure.Figure at 0x7fa2f2c87dd8>"
      ]
     },
     "metadata": {},
     "output_type": "display_data"
    }
   ],
   "source": [
    "phist = plt.hist(peds, bins=40, range=[0,150])\n",
    "plt.title(\"Pedestal Distribution for a single event\")"
   ]
  },
  {
   "cell_type": "markdown",
   "metadata": {},
   "source": [
    "let's now take a look at the pedestal-subtracted sums and a pedestal-subtracted signal:\n"
   ]
  },
  {
   "cell_type": "code",
   "execution_count": 15,
   "metadata": {
    "collapsed": false
   },
   "outputs": [
    {
     "data": {
      "text/plain": [
       "[<matplotlib.lines.Line2D at 0x7fa2f2f04dd8>]"
      ]
     },
     "execution_count": 15,
     "metadata": {},
     "output_type": "execute_result"
    },
    {
     "data": {
      "image/png": "[encoded data removed]",
      "text/plain": [
       "<matplotlib.figure.Figure at 0x7fa2f2c87f60>"
      ]
     },
     "metadata": {},
     "output_type": "display_data"
    }
   ],
   "source": [
    "plt.plot(sums - peds)"
   ]
  },
  {
   "cell_type": "code",
   "execution_count": null,
   "metadata": {
    "collapsed": false
   },
   "outputs": [],
   "source": [
    "# we can also subtract the pedestals from the traces themselves, which would be needed to compare peaks properly\n",
    "for ii in range(270,280):\n",
    "    plt.plot(data[ii] - peds[ii])"
   ]
  },
  {
   "cell_type": "markdown",
   "metadata": {},
   "source": [
    "## camera displays\n",
    "better yet, let's do it in 2D! At this point, the ArrayConfig data model is not implemented, so there is not a good way to load all the camera definitions (right now it is hacked into the `hessio_event_source`, which will at least read the pixel positions from the file)"
   ]
  },
  {
   "cell_type": "code",
   "execution_count": null,
   "metadata": {
    "collapsed": false
   },
   "outputs": [],
   "source": [
    "pix_x, pix_y= event.meta.pixel_pos[24] \n",
    "camgeom = io.CameraGeometry.guess(pix_x*u.m, pix_y*u.m) # just guess the geometry from the pix pos"
   ]
  },
  {
   "cell_type": "code",
   "execution_count": null,
   "metadata": {
    "collapsed": false
   },
   "outputs": [],
   "source": [
    "title=\"CT24, run {} event {} ped-sub\".format(event.dl0.run_id,event.dl0.event_id)\n",
    "disp = visualization.CameraDisplay(camgeom,title=title)\n",
    "disp.image = sums - peds \n",
    "disp.cmap = plt.cm.RdBu_r\n",
    "disp.add_colorbar()\n",
    "disp.set_limits_percent(95)  # autoscale"
   ]
  },
  {
   "cell_type": "markdown",
   "metadata": {},
   "source": [
    "It looks like a nice signal! We have plotted our pedestal-subtracted trace integral, and see the shower clearly!\n",
    "\n",
    "Let's look at all telescopes:"
   ]
  },
  {
   "cell_type": "code",
   "execution_count": null,
   "metadata": {
    "collapsed": false,
    "scrolled": false
   },
   "outputs": [],
   "source": [
    "for tel in event.dl0.tels_with_data:\n",
    "    plt.figure()\n",
    "    pix_x, pix_y= event.meta.pixel_pos[tel] \n",
    "    camgeom = io.CameraGeometry.guess(pix_x*u.m, pix_y*u.m) # just guess the geometry from the pix pos\n",
    "    title=\"CT{}, run {} event {}\".format(tel,event.dl0.run_id,event.dl0.event_id)\n",
    "    disp = visualization.CameraDisplay(camgeom,title=title)\n",
    "    disp.image = event.dl0.tel[tel].adc_sums[0]\n",
    "    disp.cmap = plt.cm.RdBu_r\n",
    "    disp.add_colorbar()\n",
    "    disp.set_limits_percent(95)"
   ]
  },
  {
   "cell_type": "markdown",
   "metadata": {},
   "source": [
    "# some signal processing...\n",
    "\n",
    "Let's try to detect the peak using the scipy.signal package:\n",
    "http://docs.scipy.org/doc/scipy/reference/signal.html"
   ]
  },
  {
   "cell_type": "code",
   "execution_count": null,
   "metadata": {
    "collapsed": false
   },
   "outputs": [],
   "source": [
    "from scipy import signal\n",
    "import numpy as np"
   ]
  },
  {
   "cell_type": "code",
   "execution_count": null,
   "metadata": {
    "collapsed": false
   },
   "outputs": [],
   "source": [
    "pix_ids = np.arange(len(data))\n",
    "has_signal = sums > 300\n",
    "\n",
    "widths = np.array([8,]) # peak widths to search for (let's fix it at 8 samples, about the width of the peak)\n",
    "peaks = [signal.find_peaks_cwt(trace,widths) for trace in data[has_signal] ]\n",
    "\n",
    "for p,s in zip(pix_ids[has_signal],peaks):\n",
    "    print(\"pix{} has peaks at sample {}\".format(p,s))\n",
    "    plt.plot(data[p])\n",
    "    plt.scatter(np.array(s),data[p,s])"
   ]
  },
  {
   "cell_type": "markdown",
   "metadata": {},
   "source": [
    "clearly the signal needs to be filtered first, or an appropriate wavelet used, but the idea is nice"
   ]
  },
  {
   "cell_type": "code",
   "execution_count": null,
   "metadata": {
    "collapsed": true
   },
   "outputs": [],
   "source": []
  },
  {
   "cell_type": "code",
   "execution_count": null,
   "metadata": {
    "collapsed": true
   },
   "outputs": [],
   "source": []
  }
 ],
 "metadata": {
  "kernelspec": {
   "display_name": "Python 3",
   "language": "python",
   "name": "python3"
  },
  "language_info": {
   "codemirror_mode": {
    "name": "ipython",
    "version": 3
   },
   "file_extension": ".py",
   "mimetype": "text/x-python",
   "name": "python",
   "nbconvert_exporter": "python",
   "pygments_lexer": "ipython3",
   "version": "3.4.3"
  }
 },
 "nbformat": 4,
 "nbformat_minor": 0
}
