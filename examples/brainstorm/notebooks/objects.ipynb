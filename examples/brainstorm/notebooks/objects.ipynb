{
 "cells": [
  {
   "cell_type": "markdown",
   "metadata": {},
   "source": [
    "Can do the \"classic\" object pipeline... But it's kind of messy\n",
    "See http://biolite.bitbucket.org/pipelines.html for a better implementation (but still hard to follow)"
   ]
  },
  {
   "cell_type": "code",
   "execution_count": 58,
   "metadata": {
    "collapsed": false
   },
   "outputs": [],
   "source": [
    "class Component(object):\n",
    "    def __init__(self,name, **params):\n",
    "        self._count = 0\n",
    "        print \"init {} Component with params: {}\".format(name,params)\n",
    "    def __call__(self, data):\n",
    "        if self._count==0:\n",
    "            self._setup()\n",
    "        self._process(data)\n",
    "        self._count += 1\n",
    "    # methods to override in subclasses\n",
    "    def _setup(self):\n",
    "        print \"setup\"\n",
    "    def _process(self,data):\n",
    "        print \"process\"\n",
    "        "
   ]
  },
  {
   "cell_type": "code",
   "execution_count": 59,
   "metadata": {
    "collapsed": false
   },
   "outputs": [],
   "source": [
    "class HillasComponent(Component):\n",
    "    def _setup(self):\n",
    "        print \"setup hillas\"\n",
    "    def _process(self,data):\n",
    "        print \"hillas process data\",data\n",
    "        return data"
   ]
  },
  {
   "cell_type": "code",
   "execution_count": 60,
   "metadata": {
    "collapsed": false
   },
   "outputs": [
    {
     "name": "stdout",
     "output_type": "stream",
     "text": [
      "init hillas1 Component with params: {'test': 1}\n",
      "setup hillas\n",
      "hillas process data 1\n",
      "hillas process data 2\n",
      "hillas process data 3\n"
     ]
    }
   ],
   "source": [
    "cc = HillasComponent(\"hillas1\", test=1)\n",
    "cc(1)\n",
    "cc(2)\n",
    "cc(3)"
   ]
  },
  {
   "cell_type": "code",
   "execution_count": 71,
   "metadata": {
    "collapsed": false
   },
   "outputs": [],
   "source": [
    "class Pipeline():\n",
    "    def __init__(self):\n",
    "        self.components = set()\n",
    "        self.edges = set()\n",
    "    def connect(self, incomponent, outcomponent ):\n",
    "        self.components.add(incomponent)\n",
    "        self.components.add(outcomponent)\n",
    "        self.edges.add( (incomponent,outcomponent) )\n",
    "        \n",
    "    "
   ]
  },
  {
   "cell_type": "code",
   "execution_count": 84,
   "metadata": {
    "collapsed": false
   },
   "outputs": [
    {
     "name": "stdout",
     "output_type": "stream",
     "text": [
      "init hillas1 Component with params: {'thing': 'crap'}\n",
      "init Hillas2 Component with params: {}\n"
     ]
    }
   ],
   "source": [
    "pipe = Pipeline()\n",
    "pipe.connect( HillasComponent(\"hillas1\", thing=\"crap\"), HillasComponent(\"Hillas2\"))"
   ]
  },
  {
   "cell_type": "code",
   "execution_count": 85,
   "metadata": {
    "collapsed": false
   },
   "outputs": [
    {
     "name": "stdout",
     "output_type": "stream",
     "text": [
      "(<__main__.HillasComponent object at 0x103643810>, <__main__.HillasComponent object at 0x103643e90>)\n",
      "setup hillas\n",
      "hillas process data <__main__.HillasComponent object at 0x103621950>\n"
     ]
    }
   ],
   "source": [
    "for efrom,eto in pipe.edges:\n",
    "    print edge\n",
    "    eto(efrom)"
   ]
  },
  {
   "cell_type": "code",
   "execution_count": null,
   "metadata": {
    "collapsed": true
   },
   "outputs": [],
   "source": []
  }
 ],
 "metadata": {
  "kernelspec": {
   "display_name": "Python 2",
   "language": "python",
   "name": "python2"
  },
  "language_info": {
   "codemirror_mode": {
    "name": "ipython",
    "version": 2
   },
   "file_extension": ".py",
   "mimetype": "text/x-python",
   "name": "python",
   "nbconvert_exporter": "python",
   "pygments_lexer": "ipython2",
   "version": "2.7.9"
  }
 },
 "nbformat": 4,
 "nbformat_minor": 0
}
