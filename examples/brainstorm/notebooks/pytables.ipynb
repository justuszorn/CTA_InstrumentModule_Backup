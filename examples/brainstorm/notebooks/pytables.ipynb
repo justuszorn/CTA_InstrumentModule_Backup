{
 "cells": [
  {
   "cell_type": "code",
   "execution_count": 1,
   "metadata": {
    "collapsed": true
   },
   "outputs": [],
   "source": [
    "import tables as tab"
   ]
  },
  {
   "cell_type": "code",
   "execution_count": 2,
   "metadata": {
    "collapsed": true
   },
   "outputs": [],
   "source": [
    "class HillasParams(tab.IsDescription):\n",
    "    width = tab.Float64Col()\n",
    "    length = tab.Float64Col()\n",
    "    pos = tab.Float64Col(2)"
   ]
  },
  {
   "cell_type": "code",
   "execution_count": 13,
   "metadata": {
    "collapsed": false
   },
   "outputs": [],
   "source": [
    "h5file = tab.open_file(\"eventtest.h5\", mode = \"w\", title = \"Test file\")\n",
    "group = h5file.create_group(\"/\", 'event', 'event data')\n",
    "table = h5file.create_table(group, 'event', HillasParams, \"parameterization example\")\n"
   ]
  },
  {
   "cell_type": "code",
   "execution_count": 15,
   "metadata": {
    "collapsed": false
   },
   "outputs": [],
   "source": [
    "hil = table.row\n",
    "for ii in range(10):\n",
    "    hil['width'] = 1.0\n",
    "    hil['length']=2.0\n",
    "    hil['pos'][0] =  0.0\n",
    "    hil['pos'][1] = 0.1\n",
    "    hil.append()"
   ]
  },
  {
   "cell_type": "code",
   "execution_count": 16,
   "metadata": {
    "collapsed": false
   },
   "outputs": [
    {
     "name": "stdout",
     "output_type": "stream",
     "text": [
      "/event/event.row (Row), pointing to row #0\n"
     ]
    }
   ],
   "source": [
    "print hil\n"
   ]
  },
  {
   "cell_type": "code",
   "execution_count": 17,
   "metadata": {
    "collapsed": true
   },
   "outputs": [],
   "source": [
    "table.flush()"
   ]
  },
  {
   "cell_type": "markdown",
   "metadata": {},
   "source": [
    "#conclusion:\n",
    "\n",
    "PyTables is good for reading/writing complex HDF5 data, but not good as a data structure to pass between components internally.\n",
    "\n",
    "Note that Pandas has a i/o layer that links directly to PyTables, which could be interesting.\n",
    "\n",
    "Pandas DataFrames can bave columns added and removed at will as well.."
   ]
  },
  {
   "cell_type": "code",
   "execution_count": null,
   "metadata": {
    "collapsed": true
   },
   "outputs": [],
   "source": []
  }
 ],
 "metadata": {
  "kernelspec": {
   "display_name": "Python 2",
   "language": "python",
   "name": "python2"
  },
  "language_info": {
   "codemirror_mode": {
    "name": "ipython",
    "version": 2
   },
   "file_extension": ".py",
   "mimetype": "text/x-python",
   "name": "python",
   "nbconvert_exporter": "python",
   "pygments_lexer": "ipython2",
   "version": "2.7.9"
  }
 },
 "nbformat": 4,
 "nbformat_minor": 0
}
