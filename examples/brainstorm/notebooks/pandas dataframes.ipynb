{
 "cells": [
  {
   "cell_type": "markdown",
   "metadata": {},
   "source": [
    "#test of using Pandas DataFrame as internal structure\n",
    "\n",
    "Advantages\n",
    "* well supported\n",
    "* has connection to lots of I/O layers (even PyTables)\n",
    "* can add/remove columns easily\n",
    "\n",
    "Problems:\n",
    "* can't seem to store vector data in a column..."
   ]
  },
  {
   "cell_type": "code",
   "execution_count": 26,
   "metadata": {
    "collapsed": true
   },
   "outputs": [],
   "source": [
    "import pandas as pd\n",
    "import numpy as np"
   ]
  },
  {
   "cell_type": "code",
   "execution_count": 27,
   "metadata": {
    "collapsed": false
   },
   "outputs": [],
   "source": [
    "evid = np.arange(10) + 1024\n",
    "X = np.linspace(-10,10,10, dtype=np.float32)\n",
    "Y = np.linspace(-10,10,10, dtype=np.float32)\n",
    "V = np.random.uniform(size=10)"
   ]
  },
  {
   "cell_type": "code",
   "execution_count": 28,
   "metadata": {
    "collapsed": false
   },
   "outputs": [
    {
     "data": {
      "text/html": [
       "<div style=\"max-height:1000px;max-width:1500px;overflow:auto;\">\n",
       "<table border=\"1\" class=\"dataframe\">\n",
       "  <thead>\n",
       "    <tr style=\"text-align: right;\">\n",
       "      <th></th>\n",
       "      <th>DETX</th>\n",
       "      <th>DETY</th>\n",
       "      <th>VALUE</th>\n",
       "    </tr>\n",
       "  </thead>\n",
       "  <tbody>\n",
       "    <tr>\n",
       "      <th>1024</th>\n",
       "      <td>-10.000000</td>\n",
       "      <td>-10.000000</td>\n",
       "      <td>0.179955</td>\n",
       "    </tr>\n",
       "    <tr>\n",
       "      <th>1025</th>\n",
       "      <td>-7.777778</td>\n",
       "      <td>-7.777778</td>\n",
       "      <td>0.487733</td>\n",
       "    </tr>\n",
       "    <tr>\n",
       "      <th>1026</th>\n",
       "      <td>-5.555555</td>\n",
       "      <td>-5.555555</td>\n",
       "      <td>0.469597</td>\n",
       "    </tr>\n",
       "    <tr>\n",
       "      <th>1027</th>\n",
       "      <td>-3.333333</td>\n",
       "      <td>-3.333333</td>\n",
       "      <td>0.379217</td>\n",
       "    </tr>\n",
       "    <tr>\n",
       "      <th>1028</th>\n",
       "      <td>-1.111111</td>\n",
       "      <td>-1.111111</td>\n",
       "      <td>0.249932</td>\n",
       "    </tr>\n",
       "    <tr>\n",
       "      <th>1029</th>\n",
       "      <td>1.111112</td>\n",
       "      <td>1.111112</td>\n",
       "      <td>0.887062</td>\n",
       "    </tr>\n",
       "    <tr>\n",
       "      <th>1030</th>\n",
       "      <td>3.333334</td>\n",
       "      <td>3.333334</td>\n",
       "      <td>0.714865</td>\n",
       "    </tr>\n",
       "    <tr>\n",
       "      <th>1031</th>\n",
       "      <td>5.555556</td>\n",
       "      <td>5.555556</td>\n",
       "      <td>0.672744</td>\n",
       "    </tr>\n",
       "    <tr>\n",
       "      <th>1032</th>\n",
       "      <td>7.777779</td>\n",
       "      <td>7.777779</td>\n",
       "      <td>0.831903</td>\n",
       "    </tr>\n",
       "    <tr>\n",
       "      <th>1033</th>\n",
       "      <td>10.000000</td>\n",
       "      <td>10.000000</td>\n",
       "      <td>0.952904</td>\n",
       "    </tr>\n",
       "  </tbody>\n",
       "</table>\n",
       "</div>"
      ],
      "text/plain": [
       "           DETX       DETY     VALUE\n",
       "1024 -10.000000 -10.000000  0.179955\n",
       "1025  -7.777778  -7.777778  0.487733\n",
       "1026  -5.555555  -5.555555  0.469597\n",
       "1027  -3.333333  -3.333333  0.379217\n",
       "1028  -1.111111  -1.111111  0.249932\n",
       "1029   1.111112   1.111112  0.887062\n",
       "1030   3.333334   3.333334  0.714865\n",
       "1031   5.555556   5.555556  0.672744\n",
       "1032   7.777779   7.777779  0.831903\n",
       "1033  10.000000  10.000000  0.952904"
      ]
     },
     "execution_count": 28,
     "metadata": {},
     "output_type": "execute_result"
    }
   ],
   "source": [
    "data = pd.DataFrame({ 'DETX':X,'DETY':Y,'VALUE':V}, index=evid)\n",
    "data"
   ]
  },
  {
   "cell_type": "code",
   "execution_count": 29,
   "metadata": {
    "collapsed": false
   },
   "outputs": [
    {
     "data": {
      "text/html": [
       "<div style=\"max-height:1000px;max-width:1500px;overflow:auto;\">\n",
       "<table border=\"1\" class=\"dataframe\">\n",
       "  <thead>\n",
       "    <tr style=\"text-align: right;\">\n",
       "      <th></th>\n",
       "      <th>DETX</th>\n",
       "      <th>DETY</th>\n",
       "      <th>VALUE</th>\n",
       "    </tr>\n",
       "  </thead>\n",
       "  <tbody>\n",
       "    <tr>\n",
       "      <th>count</th>\n",
       "      <td>10.000000</td>\n",
       "      <td>10.000000</td>\n",
       "      <td>10.000000</td>\n",
       "    </tr>\n",
       "    <tr>\n",
       "      <th>mean</th>\n",
       "      <td>0.000000</td>\n",
       "      <td>0.000000</td>\n",
       "      <td>0.582591</td>\n",
       "    </tr>\n",
       "    <tr>\n",
       "      <th>std</th>\n",
       "      <td>6.728112</td>\n",
       "      <td>6.728112</td>\n",
       "      <td>0.269468</td>\n",
       "    </tr>\n",
       "    <tr>\n",
       "      <th>min</th>\n",
       "      <td>-10.000000</td>\n",
       "      <td>-10.000000</td>\n",
       "      <td>0.179955</td>\n",
       "    </tr>\n",
       "    <tr>\n",
       "      <th>25%</th>\n",
       "      <td>-5.000000</td>\n",
       "      <td>-5.000000</td>\n",
       "      <td>0.401812</td>\n",
       "    </tr>\n",
       "    <tr>\n",
       "      <th>50%</th>\n",
       "      <td>0.000000</td>\n",
       "      <td>0.000000</td>\n",
       "      <td>0.580238</td>\n",
       "    </tr>\n",
       "    <tr>\n",
       "      <th>75%</th>\n",
       "      <td>5.000001</td>\n",
       "      <td>5.000001</td>\n",
       "      <td>0.802643</td>\n",
       "    </tr>\n",
       "    <tr>\n",
       "      <th>max</th>\n",
       "      <td>10.000000</td>\n",
       "      <td>10.000000</td>\n",
       "      <td>0.952904</td>\n",
       "    </tr>\n",
       "  </tbody>\n",
       "</table>\n",
       "</div>"
      ],
      "text/plain": [
       "            DETX       DETY      VALUE\n",
       "count  10.000000  10.000000  10.000000\n",
       "mean    0.000000   0.000000   0.582591\n",
       "std     6.728112   6.728112   0.269468\n",
       "min   -10.000000 -10.000000   0.179955\n",
       "25%    -5.000000  -5.000000   0.401812\n",
       "50%     0.000000   0.000000   0.580238\n",
       "75%     5.000001   5.000001   0.802643\n",
       "max    10.000000  10.000000   0.952904"
      ]
     },
     "execution_count": 29,
     "metadata": {},
     "output_type": "execute_result"
    }
   ],
   "source": [
    "data.describe()"
   ]
  },
  {
   "cell_type": "code",
   "execution_count": 30,
   "metadata": {
    "collapsed": false
   },
   "outputs": [
    {
     "name": "stdout",
     "output_type": "stream",
     "text": [
      "DETX     1.111112\n",
      "DETY     1.111112\n",
      "VALUE    0.887062\n",
      "Name: 1029, dtype: float64\n"
     ]
    }
   ],
   "source": [
    "print data.loc[1029]"
   ]
  },
  {
   "cell_type": "code",
   "execution_count": 31,
   "metadata": {
    "collapsed": false
   },
   "outputs": [
    {
     "name": "stdout",
     "output_type": "stream",
     "text": [
      "DETX\n",
      "DETY\n",
      "VALUE\n"
     ]
    }
   ],
   "source": [
    "for col in data:\n",
    "    print col"
   ]
  },
  {
   "cell_type": "markdown",
   "metadata": {},
   "source": [
    "Adding a column:"
   ]
  },
  {
   "cell_type": "code",
   "execution_count": 32,
   "metadata": {
    "collapsed": false
   },
   "outputs": [
    {
     "data": {
      "text/html": [
       "<div style=\"max-height:1000px;max-width:1500px;overflow:auto;\">\n",
       "<table border=\"1\" class=\"dataframe\">\n",
       "  <thead>\n",
       "    <tr style=\"text-align: right;\">\n",
       "      <th></th>\n",
       "      <th>DETX</th>\n",
       "      <th>DETY</th>\n",
       "      <th>VALUE</th>\n",
       "      <th>ENERGY</th>\n",
       "    </tr>\n",
       "  </thead>\n",
       "  <tbody>\n",
       "    <tr>\n",
       "      <th>1024</th>\n",
       "      <td>-10.000000</td>\n",
       "      <td>-10.000000</td>\n",
       "      <td>0.179955</td>\n",
       "      <td>9.194372</td>\n",
       "    </tr>\n",
       "    <tr>\n",
       "      <th>1025</th>\n",
       "      <td>-7.777778</td>\n",
       "      <td>-7.777778</td>\n",
       "      <td>0.487733</td>\n",
       "      <td>4.012506</td>\n",
       "    </tr>\n",
       "    <tr>\n",
       "      <th>1026</th>\n",
       "      <td>-5.555555</td>\n",
       "      <td>-5.555555</td>\n",
       "      <td>0.469597</td>\n",
       "      <td>11.690386</td>\n",
       "    </tr>\n",
       "    <tr>\n",
       "      <th>1027</th>\n",
       "      <td>-3.333333</td>\n",
       "      <td>-3.333333</td>\n",
       "      <td>0.379217</td>\n",
       "      <td>17.874603</td>\n",
       "    </tr>\n",
       "    <tr>\n",
       "      <th>1028</th>\n",
       "      <td>-1.111111</td>\n",
       "      <td>-1.111111</td>\n",
       "      <td>0.249932</td>\n",
       "      <td>11.729661</td>\n",
       "    </tr>\n",
       "    <tr>\n",
       "      <th>1029</th>\n",
       "      <td>1.111112</td>\n",
       "      <td>1.111112</td>\n",
       "      <td>0.887062</td>\n",
       "      <td>4.223501</td>\n",
       "    </tr>\n",
       "    <tr>\n",
       "      <th>1030</th>\n",
       "      <td>3.333334</td>\n",
       "      <td>3.333334</td>\n",
       "      <td>0.714865</td>\n",
       "      <td>2.725324</td>\n",
       "    </tr>\n",
       "    <tr>\n",
       "      <th>1031</th>\n",
       "      <td>5.555556</td>\n",
       "      <td>5.555556</td>\n",
       "      <td>0.672744</td>\n",
       "      <td>2.324606</td>\n",
       "    </tr>\n",
       "    <tr>\n",
       "      <th>1032</th>\n",
       "      <td>7.777779</td>\n",
       "      <td>7.777779</td>\n",
       "      <td>0.831903</td>\n",
       "      <td>1.538140</td>\n",
       "    </tr>\n",
       "    <tr>\n",
       "      <th>1033</th>\n",
       "      <td>10.000000</td>\n",
       "      <td>10.000000</td>\n",
       "      <td>0.952904</td>\n",
       "      <td>9.799554</td>\n",
       "    </tr>\n",
       "  </tbody>\n",
       "</table>\n",
       "</div>"
      ],
      "text/plain": [
       "           DETX       DETY     VALUE     ENERGY\n",
       "1024 -10.000000 -10.000000  0.179955   9.194372\n",
       "1025  -7.777778  -7.777778  0.487733   4.012506\n",
       "1026  -5.555555  -5.555555  0.469597  11.690386\n",
       "1027  -3.333333  -3.333333  0.379217  17.874603\n",
       "1028  -1.111111  -1.111111  0.249932  11.729661\n",
       "1029   1.111112   1.111112  0.887062   4.223501\n",
       "1030   3.333334   3.333334  0.714865   2.725324\n",
       "1031   5.555556   5.555556  0.672744   2.324606\n",
       "1032   7.777779   7.777779  0.831903   1.538140\n",
       "1033  10.000000  10.000000  0.952904   9.799554"
      ]
     },
     "execution_count": 32,
     "metadata": {},
     "output_type": "execute_result"
    }
   ],
   "source": [
    "energy = np.random.lognormal(2,1,size=10)\n",
    "data['ENERGY'] = energy\n",
    "data"
   ]
  },
  {
   "cell_type": "markdown",
   "metadata": {},
   "source": [
    "adding array data:"
   ]
  },
  {
   "cell_type": "code",
   "execution_count": 40,
   "metadata": {
    "collapsed": false
   },
   "outputs": [
    {
     "name": "stdout",
     "output_type": "stream",
     "text": [
      "[[ 0  1  2  3  4]\n",
      " [ 5  6  7  8  9]\n",
      " [10 11 12 13 14]\n",
      " [15 16 17 18 19]\n",
      " [20 21 22 23 24]\n",
      " [25 26 27 28 29]\n",
      " [30 31 32 33 34]\n",
      " [35 36 37 38 39]\n",
      " [40 41 42 43 44]\n",
      " [45 46 47 48 49]]\n",
      "FAILED: Wrong number of items passed 5, placement implies 1\n"
     ]
    },
    {
     "data": {
      "text/html": [
       "<div style=\"max-height:1000px;max-width:1500px;overflow:auto;\">\n",
       "<table border=\"1\" class=\"dataframe\">\n",
       "  <thead>\n",
       "    <tr style=\"text-align: right;\">\n",
       "      <th></th>\n",
       "      <th>DETX</th>\n",
       "      <th>DETY</th>\n",
       "      <th>VALUE</th>\n",
       "      <th>ENERGY</th>\n",
       "    </tr>\n",
       "  </thead>\n",
       "  <tbody>\n",
       "    <tr>\n",
       "      <th>1024</th>\n",
       "      <td>-10.000000</td>\n",
       "      <td>-10.000000</td>\n",
       "      <td>0.179955</td>\n",
       "      <td>9.194372</td>\n",
       "    </tr>\n",
       "    <tr>\n",
       "      <th>1025</th>\n",
       "      <td>-7.777778</td>\n",
       "      <td>-7.777778</td>\n",
       "      <td>0.487733</td>\n",
       "      <td>4.012506</td>\n",
       "    </tr>\n",
       "    <tr>\n",
       "      <th>1026</th>\n",
       "      <td>-5.555555</td>\n",
       "      <td>-5.555555</td>\n",
       "      <td>0.469597</td>\n",
       "      <td>11.690386</td>\n",
       "    </tr>\n",
       "    <tr>\n",
       "      <th>1027</th>\n",
       "      <td>-3.333333</td>\n",
       "      <td>-3.333333</td>\n",
       "      <td>0.379217</td>\n",
       "      <td>17.874603</td>\n",
       "    </tr>\n",
       "    <tr>\n",
       "      <th>1028</th>\n",
       "      <td>-1.111111</td>\n",
       "      <td>-1.111111</td>\n",
       "      <td>0.249932</td>\n",
       "      <td>11.729661</td>\n",
       "    </tr>\n",
       "    <tr>\n",
       "      <th>1029</th>\n",
       "      <td>1.111112</td>\n",
       "      <td>1.111112</td>\n",
       "      <td>0.887062</td>\n",
       "      <td>4.223501</td>\n",
       "    </tr>\n",
       "    <tr>\n",
       "      <th>1030</th>\n",
       "      <td>3.333334</td>\n",
       "      <td>3.333334</td>\n",
       "      <td>0.714865</td>\n",
       "      <td>2.725324</td>\n",
       "    </tr>\n",
       "    <tr>\n",
       "      <th>1031</th>\n",
       "      <td>5.555556</td>\n",
       "      <td>5.555556</td>\n",
       "      <td>0.672744</td>\n",
       "      <td>2.324606</td>\n",
       "    </tr>\n",
       "    <tr>\n",
       "      <th>1032</th>\n",
       "      <td>7.777779</td>\n",
       "      <td>7.777779</td>\n",
       "      <td>0.831903</td>\n",
       "      <td>1.538140</td>\n",
       "    </tr>\n",
       "    <tr>\n",
       "      <th>1033</th>\n",
       "      <td>10.000000</td>\n",
       "      <td>10.000000</td>\n",
       "      <td>0.952904</td>\n",
       "      <td>9.799554</td>\n",
       "    </tr>\n",
       "  </tbody>\n",
       "</table>\n",
       "</div>"
      ],
      "text/plain": [
       "           DETX       DETY     VALUE     ENERGY\n",
       "1024 -10.000000 -10.000000  0.179955   9.194372\n",
       "1025  -7.777778  -7.777778  0.487733   4.012506\n",
       "1026  -5.555555  -5.555555  0.469597  11.690386\n",
       "1027  -3.333333  -3.333333  0.379217  17.874603\n",
       "1028  -1.111111  -1.111111  0.249932  11.729661\n",
       "1029   1.111112   1.111112  0.887062   4.223501\n",
       "1030   3.333334   3.333334  0.714865   2.725324\n",
       "1031   5.555556   5.555556  0.672744   2.324606\n",
       "1032   7.777779   7.777779  0.831903   1.538140\n",
       "1033  10.000000  10.000000  0.952904   9.799554"
      ]
     },
     "execution_count": 40,
     "metadata": {},
     "output_type": "execute_result"
    }
   ],
   "source": [
    "pixval = np.arange(5*10).reshape(10,5)\n",
    "print pixval\n",
    "try:\n",
    "    data['PIXVAL']=pixval\n",
    "except Exception,e:\n",
    "    print \"FAILED:\",e\n",
    "data"
   ]
  },
  {
   "cell_type": "code",
   "execution_count": null,
   "metadata": {
    "collapsed": true
   },
   "outputs": [],
   "source": []
  }
 ],
 "metadata": {
  "kernelspec": {
   "display_name": "Python 2",
   "language": "python",
   "name": "python2"
  },
  "language_info": {
   "codemirror_mode": {
    "name": "ipython",
    "version": 2
   },
   "file_extension": ".py",
   "mimetype": "text/x-python",
   "name": "python",
   "nbconvert_exporter": "python",
   "pygments_lexer": "ipython2",
   "version": "2.7.9"
  }
 },
 "nbformat": 4,
 "nbformat_minor": 0
}
