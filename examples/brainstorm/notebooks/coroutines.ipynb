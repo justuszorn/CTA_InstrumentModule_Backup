{
 "cells": [
  {
   "cell_type": "markdown",
   "metadata": {},
   "source": [
    "Useful links:\n",
    "* http://stackoverflow.com/questions/9708902/in-practice-what-are-the-main-uses-for-the-new-yield-from-syntax-in-python-3\n",
    "* http://www.dabeaz.com/coroutines/\n",
    "* http://www.slideshare.net/dabeaz/python-generator-hacking\n",
    "* https://www.youtube.com/watch?v=aurOB4qYuFM&feature=youtu.be&t=53m8s\n",
    "* http://excess.org/article/2013/02/itergen2/"
   ]
  },
  {
   "cell_type": "markdown",
   "metadata": {},
   "source": [
    "Generators: \n",
    "- yield single data\n",
    "- can get data from other generators via next()\n",
    "- \"pull\" data through the chain\n",
    "- pass *inputs* to their constructor  (**pull data**)\n",
    "-  **multiple inputs** (via `next()`) / **single output** (via `yield`)\n",
    "\n",
    "Coroutines:\n",
    "- you ``send()`` them data which they receive via ``yield`` \n",
    "- they can send multiple outputs to sub-coroutines, so branching can be more fancy \n",
    "  - could have a routine called ``thinsplit(out,thinout,1000)`` that sends most events through to `out` , and every 1000th event to a `display` \n",
    "- need to ``send(None)`` the first time to prime them, but can wrap in a decorator to do that automatically\n",
    "- pass *outputs* to their constructor (**push data**)\n",
    "- **single input** (via `(yield)`) / **multiple outputs** (via `send(out_n)`)\n",
    "\n",
    "\n",
    "In both cases:\n",
    "- no need for ``init()`` and ``process()`` routines, both are encapsulated in one\n",
    "\n",
    "Asyncio:\n",
    "- allows code to do stuff while some part of it is blocking on i/o.\n",
    "defines an event loop that runs fine-grained processes (not event by event in a data sense!)\n",
    "- coroutines in asyncio are called using `yield from routine(...)`, which should be some operation that sometimes blocks.  \n",
    "- Increases performance if there are a lot of blocking operations running in \"parallel\" in a single thread\n",
    "- while one coroutine is waiting for I/O, other unrelated ones can still execute. \n",
    "- basically removes I/O bottlenecks\n",
    "- **question**: is this useful for us? Or are we more computation dominated? If all our I/O bottleneck happens at the start of a pipeline, then this probably doesn't help much..."
   ]
  },
  {
   "cell_type": "code",
   "execution_count": 81,
   "metadata": {
    "collapsed": true
   },
   "outputs": [],
   "source": [
    "def coroutine(func):\n",
    "    \"\"\" \n",
    "    decorator to automatically \"prime\" the coroutine (e.g. to \n",
    "    send None the first time, to get the init parts of the coroutine to execute)\n",
    "    \"\"\" \n",
    "    def start(*args, **kwargs):\n",
    "        cr = func(*args, **kwargs)\n",
    "        cr.send(None)\n",
    "        return cr\n",
    "    return start"
   ]
  },
  {
   "cell_type": "code",
   "execution_count": 205,
   "metadata": {
    "collapsed": false
   },
   "outputs": [],
   "source": [
    "def pushdata( pipeline, num=10 ):\n",
    "    \"\"\" \n",
    "    drive data through the output pipeline\n",
    "    this is not a coroutine!\n",
    "    \"\"\"\n",
    "    print(\"Init gen\")\n",
    "    try:\n",
    "        for ii in range(num):\n",
    "            print(\"  SEND\",ii)\n",
    "            pipeline.send(ii)\n",
    "    except StopIteration:\n",
    "        print(\"pushdata: Something asked me to stop!\")\n",
    "        \n",
    "@coroutine\n",
    "def co_process( output ):\n",
    "    print(\"Init process\")\n",
    "    try:\n",
    "        while True:\n",
    "            data = (yield)\n",
    "            data += 100        \n",
    "            #print(\"  process send\",data)\n",
    "            output.send(data)\n",
    "    except GeneratorExit:\n",
    "        print(\"PROCESS exited\")\n",
    "        output.close()\n",
    "\n",
    "@coroutine\n",
    "def co_filter( output, otheroutput, every=3 ):\n",
    "    while True:\n",
    "        data = (yield)\n",
    "        if int(data) % every != 0:\n",
    "            output.send(data)\n",
    "        else:\n",
    "            otheroutput.send(data)\n",
    "\n",
    "@coroutine\n",
    "def co_split( output, otheroutput, every=2 ):\n",
    "    count = 0\n",
    "    while True:\n",
    "        data = (yield)\n",
    "        if count % every == 0:\n",
    "            otheroutput.send(data)\n",
    "        output.send(data) #send through\n",
    "        count += 1\n",
    "\n",
    "@coroutine    \n",
    "def co_sink(name):\n",
    "    print(\"Init sink\",name)\n",
    "    try:\n",
    "        while True:\n",
    "            data = (yield)\n",
    "            print( \"{0:>10s} RECEIVED: {1}\".format(name,data ))\n",
    "    except GeneratorExit:\n",
    "        print(\"CLOSING SINK\",name)"
   ]
  },
  {
   "cell_type": "code",
   "execution_count": 206,
   "metadata": {
    "collapsed": false
   },
   "outputs": [
    {
     "name": "stdout",
     "output_type": "stream",
     "text": [
      "Init sink first\n",
      "Init sink display\n",
      "Init sink second\n",
      "Init process\n",
      "Init gen\n",
      "  SEND 0\n",
      "   display RECEIVED: 100\n",
      "     first RECEIVED: 100\n",
      "  SEND 1\n",
      "     first RECEIVED: 101\n",
      "  SEND 2\n",
      "    second RECEIVED: 102\n",
      "  SEND 3\n",
      "   display RECEIVED: 103\n",
      "     first RECEIVED: 103\n",
      "  SEND 4\n",
      "     first RECEIVED: 104\n",
      "  SEND 5\n",
      "    second RECEIVED: 105\n",
      "  SEND 6\n",
      "   display RECEIVED: 106\n",
      "     first RECEIVED: 106\n",
      "  SEND 7\n",
      "     first RECEIVED: 107\n",
      "  SEND 8\n",
      "    second RECEIVED: 108\n",
      "  SEND 9\n",
      "   display RECEIVED: 109\n",
      "     first RECEIVED: 109\n",
      "PROCESS exited\n",
      "CLOSING SINK first\n",
      "CLOSING SINK display\n",
      "CLOSING SINK second\n"
     ]
    }
   ],
   "source": [
    "pipeline = co_process( \n",
    "                co_filter( \n",
    "                        co_split( co_sink(\"first\"), co_sink(\"display\")), \n",
    "                        co_sink(\"second\") ))\n",
    "# run the loop by driving it with the source \n",
    "pushdata(pipeline,10)\n",
    "pipeline.close()\n"
   ]
  },
  {
   "cell_type": "code",
   "execution_count": 207,
   "metadata": {
    "collapsed": false
   },
   "outputs": [
    {
     "name": "stdout",
     "output_type": "stream",
     "text": [
      "Init sink first\n",
      "Init sink display\n",
      "Init sink second\n",
      "Init process\n",
      "Init gen\n",
      "  SEND 0\n",
      "   display RECEIVED: 100\n",
      "     first RECEIVED: 100\n",
      "  SEND 1\n",
      "     first RECEIVED: 101\n",
      "  SEND 2\n",
      "    second RECEIVED: 102\n",
      "  SEND 3\n",
      "   display RECEIVED: 103\n",
      "     first RECEIVED: 103\n",
      "  SEND 4\n",
      "     first RECEIVED: 104\n",
      "  SEND 5\n",
      "STOP condition met, stopping\n",
      "CLOSING SINK first\n",
      "CLOSING SINK display\n",
      "CLOSING SINK second\n",
      "pushdata: Something asked me to stop!\n"
     ]
    }
   ],
   "source": [
    "@coroutine\n",
    "def co_stopif(condition, target):\n",
    "    while True:\n",
    "        data = (yield)\n",
    "        if condition(data):\n",
    "            break\n",
    "        else:\n",
    "            target.send(data)\n",
    "    print(\"STOP condition met, stopping\")\n",
    "    target.close()\n",
    "   \n",
    "            \n",
    "\n",
    "pipeline = co_process( \n",
    "                co_stopif( lambda x: x>104, \n",
    "                    co_filter( \n",
    "                        co_split( co_sink(\"first\"), co_sink(\"display\")), \n",
    "                        co_sink(\"second\") )\n",
    "                    )\n",
    "            )\n",
    "\n",
    "pushdata(pipeline, 10 )"
   ]
  },
  {
   "cell_type": "markdown",
   "metadata": {},
   "source": [
    "doing both input and output using yield rather than send:"
   ]
  },
  {
   "cell_type": "code",
   "execution_count": 224,
   "metadata": {
    "collapsed": true
   },
   "outputs": [],
   "source": [
    "def running_avg():\n",
    "    \"coroutine that accepts numbers and yields their running average\"\n",
    "    total = float((yield))\n",
    "    count = 1\n",
    "    while True:\n",
    "        i = yield total / count\n",
    "        count += 1\n",
    "        total += i\n",
    " \n",
    "def sender(target):\n",
    "    target.send(None)\n",
    "    for ii in range(10):\n",
    "        yield target.send(ii)"
   ]
  },
  {
   "cell_type": "code",
   "execution_count": 225,
   "metadata": {
    "collapsed": false
   },
   "outputs": [
    {
     "name": "stdout",
     "output_type": "stream",
     "text": [
      "10.0\n",
      "55.0\n",
      "70.0\n",
      "52.5\n",
      "44.0\n",
      "40.0\n",
      "38.57142857142857\n",
      "38.75\n",
      "40.0\n",
      "42.0\n",
      "44.54545454545455\n",
      "47.5\n",
      "50.76923076923077\n"
     ]
    }
   ],
   "source": [
    "r = running_avg()\n",
    "r.send(None)\n",
    "print(r.send(10))\n",
    "print(r.send(100))\n",
    "print(r.send(100))\n",
    "\n",
    "for x in range(10):\n",
    "    print( r.send(x*10) )    "
   ]
  },
  {
   "cell_type": "code",
   "execution_count": 226,
   "metadata": {
    "collapsed": false
   },
   "outputs": [
    {
     "name": "stdout",
     "output_type": "stream",
     "text": [
      "0.0\n",
      "0.5\n",
      "1.0\n",
      "1.5\n",
      "2.0\n",
      "2.5\n",
      "3.0\n",
      "3.5\n",
      "4.0\n",
      "4.5\n"
     ]
    }
   ],
   "source": [
    "r= running_avg()\n",
    "for x in sender(running_avg()):\n",
    "    print( x )\n",
    "\n"
   ]
  },
  {
   "cell_type": "code",
   "execution_count": 227,
   "metadata": {
    "collapsed": false
   },
   "outputs": [
    {
     "ename": "StopIteration",
     "evalue": "",
     "output_type": "error",
     "traceback": [
      "\u001b[0;31m---------------------------------------------------------------------------\u001b[0m",
      "\u001b[0;31mStopIteration\u001b[0m                             Traceback (most recent call last)",
      "\u001b[0;32m<ipython-input-227-57d0022d53db>\u001b[0m in \u001b[0;36m<module>\u001b[0;34m()\u001b[0m\n\u001b[0;32m----> 1\u001b[0;31m \u001b[0mnext\u001b[0m\u001b[0;34m(\u001b[0m\u001b[0md\u001b[0m\u001b[0;34m)\u001b[0m\u001b[0;34m\u001b[0m\u001b[0m\n\u001b[0m",
      "\u001b[0;31mStopIteration\u001b[0m: "
     ]
    }
   ],
   "source": [
    "next(d)"
   ]
  },
  {
   "cell_type": "markdown",
   "metadata": {},
   "source": [
    "Input/Output data:\n",
    "-----------------\n",
    "\n",
    "Should be a dictionary, with possible nesting. Values can be scalars or arrays, but should avoid more complex types.  A flatten routine similar to below will be used to transform it to columns in an output table:"
   ]
  },
  {
   "cell_type": "code",
   "execution_count": 247,
   "metadata": {
    "collapsed": true
   },
   "outputs": [],
   "source": [
    "import collections\n",
    "\n",
    "def flatten_dict(d, parent_key='', sep='.'):\n",
    "    items = []\n",
    "    for k, v in d.items():\n",
    "        new_key = parent_key + sep + k if parent_key else k\n",
    "        if isinstance(v, collections.MutableMapping):\n",
    "            items.extend(flatten_dict(v, new_key, sep=sep).items())\n",
    "        else:\n",
    "            items.append((new_key, v))\n",
    "    return dict(items)\n",
    "\n"
   ]
  },
  {
   "cell_type": "code",
   "execution_count": 248,
   "metadata": {
    "collapsed": false
   },
   "outputs": [
    {
     "name": "stdout",
     "output_type": "stream",
     "text": [
      " Original: {'hillasparams': {'length': 1, 'width': 0.2, 'centroid': {'y': 1.0, 'x': 0.2}}, 'image': [1, 2, 3, 4, 5]}\n",
      "Flattened: {'hillasparams.length': 1, 'hillasparams.centroid.x': 0.2, 'hillasparams.width': 0.2, 'hillasparams.centroid.y': 1.0, 'image': [1, 2, 3, 4, 5]}\n"
     ]
    }
   ],
   "source": [
    "d = dict(image=[1,2,3,4,5], hillasparams=dict(length=1,width=0.2,centroid=dict(x=0.2,y=1.0)) )\n",
    "print(\" Original:\",d)\n",
    "print(\"Flattened:\",flatten_dict(d))"
   ]
  },
  {
   "cell_type": "markdown",
   "metadata": {},
   "source": [
    "Another possibility would be record arrays..."
   ]
  },
  {
   "cell_type": "code",
   "execution_count": 288,
   "metadata": {
    "collapsed": false
   },
   "outputs": [],
   "source": [
    "import numpy as np\n",
    "from numpy.lib import recfunctions\n",
    "a = np.array( [([1,2,3],2,3),([1,2,3],5,6)], dtype=[('x','3d'),('y',int),('z',float)] )\n"
   ]
  },
  {
   "cell_type": "code",
   "execution_count": 289,
   "metadata": {
    "collapsed": false
   },
   "outputs": [
    {
     "name": "stdout",
     "output_type": "stream",
     "text": [
      "[[ 1.  2.  3.]\n",
      " [ 1.  2.  3.]]\n",
      "[2 5]\n"
     ]
    }
   ],
   "source": [
    "r = a.view(np.recarray)\n",
    "print(r.x)\n",
    "print(r.y)"
   ]
  },
  {
   "cell_type": "code",
   "execution_count": 314,
   "metadata": {
    "collapsed": false
   },
   "outputs": [
    {
     "ename": "TypeError",
     "evalue": "len() of unsized object",
     "output_type": "error",
     "traceback": [
      "\u001b[0;31m---------------------------------------------------------------------------\u001b[0m",
      "\u001b[0;31mTypeError\u001b[0m                                 Traceback (most recent call last)",
      "\u001b[0;32m<ipython-input-314-dde19e61b006>\u001b[0m in \u001b[0;36m<module>\u001b[0;34m()\u001b[0m\n\u001b[0;32m----> 1\u001b[0;31m \u001b[0mrr\u001b[0m \u001b[0;34m=\u001b[0m\u001b[0mrecfunctions\u001b[0m\u001b[0;34m.\u001b[0m\u001b[0mappend_fields\u001b[0m\u001b[0;34m(\u001b[0m\u001b[0mr\u001b[0m\u001b[0;34m,\u001b[0m \u001b[0mnames\u001b[0m\u001b[0;34m=\u001b[0m\u001b[0;34m\"B\"\u001b[0m\u001b[0;34m,\u001b[0m \u001b[0mdata\u001b[0m\u001b[0;34m=\u001b[0m\u001b[0;36m100\u001b[0m\u001b[0;34m,\u001b[0m \u001b[0masrecarray\u001b[0m\u001b[0;34m=\u001b[0m\u001b[0;32mTrue\u001b[0m\u001b[0;34m,\u001b[0m\u001b[0musemask\u001b[0m\u001b[0;34m=\u001b[0m\u001b[0;32mFalse\u001b[0m \u001b[0;34m)\u001b[0m\u001b[0;34m\u001b[0m\u001b[0m\n\u001b[0m",
      "\u001b[0;32m/opt/local/Library/Frameworks/Python.framework/Versions/3.4/lib/python3.4/site-packages/numpy/lib/recfunctions.py\u001b[0m in \u001b[0;36mappend_fields\u001b[0;34m(base, names, data, dtypes, fill_value, usemask, asrecarray)\u001b[0m\n\u001b[1;32m    635\u001b[0m         \u001b[0mdata\u001b[0m \u001b[0;34m=\u001b[0m \u001b[0mdata\u001b[0m\u001b[0;34m.\u001b[0m\u001b[0mpop\u001b[0m\u001b[0;34m(\u001b[0m\u001b[0;34m)\u001b[0m\u001b[0;34m\u001b[0m\u001b[0m\n\u001b[1;32m    636\u001b[0m     \u001b[0;31m#\u001b[0m\u001b[0;34m\u001b[0m\u001b[0;34m\u001b[0m\u001b[0m\n\u001b[0;32m--> 637\u001b[0;31m     output = ma.masked_all(max(len(base), len(data)),\n\u001b[0m\u001b[1;32m    638\u001b[0m                            dtype=base.dtype.descr + data.dtype.descr)\n\u001b[1;32m    639\u001b[0m     \u001b[0moutput\u001b[0m \u001b[0;34m=\u001b[0m \u001b[0mrecursive_fill_fields\u001b[0m\u001b[0;34m(\u001b[0m\u001b[0mbase\u001b[0m\u001b[0;34m,\u001b[0m \u001b[0moutput\u001b[0m\u001b[0;34m)\u001b[0m\u001b[0;34m\u001b[0m\u001b[0m\n",
      "\u001b[0;31mTypeError\u001b[0m: len() of unsized object"
     ]
    }
   ],
   "source": [
    "rr =recfunctions.append_fields(r, names=\"B\", data=100, asrecarray=True,usemask=False )"
   ]
  },
  {
   "cell_type": "code",
   "execution_count": 312,
   "metadata": {
    "collapsed": false
   },
   "outputs": [
    {
     "data": {
      "text/plain": [
       "rec.array([([1.0, 2.0, 3.0], 2, 3.0, [100.0, 2e-323, 2.5e-323]),\n",
       "       ([1.0, 2.0, 3.0], 5, 6.0, [1e+20, 1e+20, 1e+20])], \n",
       "      dtype=[('x', '<f8', (3,)), ('y', '<i8'), ('z', '<f8'), ('B', '<f8', (3,))])"
      ]
     },
     "execution_count": 312,
     "metadata": {},
     "output_type": "execute_result"
    }
   ],
   "source": [
    "rr"
   ]
  },
  {
   "cell_type": "raw",
   "metadata": {},
   "source": [
    "print(rr.x)"
   ]
  },
  {
   "cell_type": "code",
   "execution_count": null,
   "metadata": {
    "collapsed": true
   },
   "outputs": [],
   "source": []
  }
 ],
 "metadata": {
  "kernelspec": {
   "display_name": "Python 3",
   "language": "python",
   "name": "python3"
  },
  "language_info": {
   "codemirror_mode": {
    "name": "ipython",
    "version": 3
   },
   "file_extension": ".py",
   "mimetype": "text/x-python",
   "name": "python",
   "nbconvert_exporter": "python",
   "pygments_lexer": "ipython3",
   "version": "3.4.3"
  }
 },
 "nbformat": 4,
 "nbformat_minor": 0
}
