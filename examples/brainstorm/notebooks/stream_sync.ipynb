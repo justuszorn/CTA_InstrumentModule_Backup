{
 "cells": [
  {
   "cell_type": "code",
   "execution_count": 1,
   "metadata": {
    "collapsed": true
   },
   "outputs": [],
   "source": [
    "import itertools"
   ]
  },
  {
   "cell_type": "code",
   "execution_count": 13,
   "metadata": {
    "collapsed": true
   },
   "outputs": [],
   "source": [
    "def gen(num):\n",
    "    ii=0\n",
    "    for kk in xrange(3):\n",
    "        for jj in xrange(num):\n",
    "            yield ii\n",
    "        ii+=1\n"
   ]
  },
  {
   "cell_type": "code",
   "execution_count": 14,
   "metadata": {
    "collapsed": true
   },
   "outputs": [],
   "source": [
    "itertools.groupby?"
   ]
  },
  {
   "cell_type": "code",
   "execution_count": 25,
   "metadata": {
    "collapsed": false
   },
   "outputs": [
    {
     "name": "stdout",
     "output_type": "stream",
     "text": [
      "0\n",
      "0\n",
      "0\n",
      "1\n",
      "1\n",
      "1\n",
      "2\n",
      "2\n",
      "2\n"
     ]
    }
   ],
   "source": [
    "gx = gen(3)\n",
    "\n",
    "for item in gx:\n",
    "    print item"
   ]
  },
  {
   "cell_type": "code",
   "execution_count": 30,
   "metadata": {
    "collapsed": false
   },
   "outputs": [
    {
     "name": "stdout",
     "output_type": "stream",
     "text": [
      "KEY 0\n",
      "   *  0\n",
      "   *  0\n",
      "   *  0\n",
      "KEY 1\n",
      "   *  1\n",
      "   *  1\n",
      "   *  1\n",
      "KEY 2\n",
      "   *  2\n",
      "   *  2\n",
      "   *  2\n"
     ]
    }
   ],
   "source": [
    "gx = gen(3)\n",
    "gy = itertools.groupby( gx, lambda x: x )\n",
    "\n",
    "for key,group in gy:\n",
    "    print \"KEY\",key\n",
    "    for item in group:\n",
    "        print \"   * \",item"
   ]
  },
  {
   "cell_type": "code",
   "execution_count": 31,
   "metadata": {
    "collapsed": true
   },
   "outputs": [],
   "source": [
    "def shower_gen():\n",
    "    ievt = 0\n",
    "    while ievt < 5:\n",
    "        yield dict( EVENT_ID=ievt, data=\"showerparams\" )\n",
    "        ievt += 1\n",
    "    \n",
    "def tel_gen():\n",
    "    ievt=0\n",
    "    while ievt < 5:\n",
    "        for itel in xrange(4):\n",
    "            yield dict( EVENT_ID=ievt, TEL_ID=itel, data=\"telparams\" )\n",
    "        ievt += 1\n",
    "    "
   ]
  },
  {
   "cell_type": "code",
   "execution_count": 33,
   "metadata": {
    "collapsed": false
   },
   "outputs": [
    {
     "name": "stdout",
     "output_type": "stream",
     "text": [
      "0  ==>  {'EVENT_ID': 0, 'data': 'showerparams'}\n",
      " *  {'EVENT_ID': 0, 'data': 'telparams', 'TEL_ID': 0}\n",
      " *  {'EVENT_ID': 0, 'data': 'telparams', 'TEL_ID': 1}\n",
      " *  {'EVENT_ID': 0, 'data': 'telparams', 'TEL_ID': 2}\n",
      " *  {'EVENT_ID': 0, 'data': 'telparams', 'TEL_ID': 3}\n",
      "1  ==>  {'EVENT_ID': 1, 'data': 'showerparams'}\n",
      " *  {'EVENT_ID': 1, 'data': 'telparams', 'TEL_ID': 0}\n",
      " *  {'EVENT_ID': 1, 'data': 'telparams', 'TEL_ID': 1}\n",
      " *  {'EVENT_ID': 1, 'data': 'telparams', 'TEL_ID': 2}\n",
      " *  {'EVENT_ID': 1, 'data': 'telparams', 'TEL_ID': 3}\n",
      "2  ==>  {'EVENT_ID': 2, 'data': 'showerparams'}\n",
      " *  {'EVENT_ID': 2, 'data': 'telparams', 'TEL_ID': 0}\n",
      " *  {'EVENT_ID': 2, 'data': 'telparams', 'TEL_ID': 1}\n",
      " *  {'EVENT_ID': 2, 'data': 'telparams', 'TEL_ID': 2}\n",
      " *  {'EVENT_ID': 2, 'data': 'telparams', 'TEL_ID': 3}\n",
      "3  ==>  {'EVENT_ID': 3, 'data': 'showerparams'}\n",
      " *  {'EVENT_ID': 3, 'data': 'telparams', 'TEL_ID': 0}\n",
      " *  {'EVENT_ID': 3, 'data': 'telparams', 'TEL_ID': 1}\n",
      " *  {'EVENT_ID': 3, 'data': 'telparams', 'TEL_ID': 2}\n",
      " *  {'EVENT_ID': 3, 'data': 'telparams', 'TEL_ID': 3}\n",
      "4  ==>  {'EVENT_ID': 4, 'data': 'showerparams'}\n",
      " *  {'EVENT_ID': 4, 'data': 'telparams', 'TEL_ID': 0}\n",
      " *  {'EVENT_ID': 4, 'data': 'telparams', 'TEL_ID': 1}\n",
      " *  {'EVENT_ID': 4, 'data': 'telparams', 'TEL_ID': 2}\n",
      " *  {'EVENT_ID': 4, 'data': 'telparams', 'TEL_ID': 3}\n"
     ]
    }
   ],
   "source": [
    "tstream = tel_gen()\n",
    "sstream = shower_gen()\n",
    "\n",
    "for evt, telgroup in itertools.groupby( tstream, lambda x: x['EVENT_ID']):\n",
    "    showerdata = sstream.next()\n",
    "    print evt,\" ==> \", showerdata\n",
    "    for tel in telgroup:\n",
    "        print \" * \", tel"
   ]
  },
  {
   "cell_type": "code",
   "execution_count": null,
   "metadata": {
    "collapsed": true
   },
   "outputs": [],
   "source": []
  }
 ],
 "metadata": {
  "kernelspec": {
   "display_name": "Python 2",
   "language": "python",
   "name": "python2"
  },
  "language_info": {
   "codemirror_mode": {
    "name": "ipython",
    "version": 2
   },
   "file_extension": ".py",
   "mimetype": "text/x-python",
   "name": "python",
   "nbconvert_exporter": "python",
   "pygments_lexer": "ipython2",
   "version": "2.7.9"
  }
 },
 "nbformat": 4,
 "nbformat_minor": 0
}
