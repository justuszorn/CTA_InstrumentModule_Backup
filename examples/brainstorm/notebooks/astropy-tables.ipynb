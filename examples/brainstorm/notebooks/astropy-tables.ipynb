{
 "cells": [
  {
   "cell_type": "markdown",
   "metadata": {},
   "source": [
    "# test of using astropy Tables as chunk data\n",
    "\n",
    "advantages:\n",
    "* stored as dict of numpy arrays\n",
    "* columns have units\n",
    "* metadata keywords are stored\n",
    "\n",
    "Comments:\n",
    "* for I/O would be nice to add a `write( filename, append=True )`  at least for FITS and support a faster FITS backend that handles row-wise writing (like `fitsio`)\n",
    "* `indata['DIST'] = dist` adds a column if 'DIST' is not there, but fails to do anything silently if 'DIST' already exists! it should return an error. The correct syntax would be `indata['DIST'][:] = dict` for existing data"
   ]
  },
  {
   "cell_type": "code",
   "execution_count": 1,
   "metadata": {
    "collapsed": false
   },
   "outputs": [],
   "source": [
    "from astropy import table as t\n",
    "from astropy import units as u\n",
    "import numpy as np"
   ]
  },
  {
   "cell_type": "code",
   "execution_count": 2,
   "metadata": {
    "collapsed": false
   },
   "outputs": [],
   "source": [
    "evid = np.arange(10) + 1024\n",
    "X = np.linspace(-10,10,10, dtype=np.float32) * u.m\n",
    "Y = np.linspace(-10,10,10, dtype=np.float32) * u.m\n",
    "V = np.random.uniform(size=10) * u.erg"
   ]
  },
  {
   "cell_type": "code",
   "execution_count": 3,
   "metadata": {
    "collapsed": false
   },
   "outputs": [
    {
     "data": {
      "text/html": [
       "&lt;Table masked=False length=10&gt;\n",
       "<table id=\"table4484291920\">\n",
       "<thead><tr><th>DETY</th><th>DETX</th><th>EVENT_ID</th><th>VALUE</th></tr></thead>\n",
       "<thead><tr><th></th><th>m</th><th>m</th><th>erg</th></tr></thead>\n",
       "<thead><tr><th>int64</th><th>float32</th><th>float32</th><th>float64</th></tr></thead>\n",
       "<tr><td>1024</td><td>-10.0</td><td>-10.0</td><td>0.486492020793</td></tr>\n",
       "<tr><td>1025</td><td>-7.77778</td><td>-7.77778</td><td>0.734777434738</td></tr>\n",
       "<tr><td>1026</td><td>-5.55556</td><td>-5.55556</td><td>0.911094238364</td></tr>\n",
       "<tr><td>1027</td><td>-3.33333</td><td>-3.33333</td><td>0.594988113528</td></tr>\n",
       "<tr><td>1028</td><td>-1.11111</td><td>-1.11111</td><td>0.969593849041</td></tr>\n",
       "<tr><td>1029</td><td>1.11111</td><td>1.11111</td><td>0.162682656422</td></tr>\n",
       "<tr><td>1030</td><td>3.33333</td><td>3.33333</td><td>0.357190789922</td></tr>\n",
       "<tr><td>1031</td><td>5.55556</td><td>5.55556</td><td>0.342792002815</td></tr>\n",
       "<tr><td>1032</td><td>7.77778</td><td>7.77778</td><td>0.244914722733</td></tr>\n",
       "<tr><td>1033</td><td>10.0</td><td>10.0</td><td>0.626817020472</td></tr>\n",
       "</table>"
      ],
      "text/plain": [
       "<Table masked=False length=10>\n",
       " DETY   DETX   EVENT_ID     VALUE     \n",
       "         m        m          erg      \n",
       "int64 float32  float32     float64    \n",
       "----- -------- -------- --------------\n",
       " 1024    -10.0    -10.0 0.486492020793\n",
       " 1025 -7.77778 -7.77778 0.734777434738\n",
       " 1026 -5.55556 -5.55556 0.911094238364\n",
       " 1027 -3.33333 -3.33333 0.594988113528\n",
       " 1028 -1.11111 -1.11111 0.969593849041\n",
       " 1029  1.11111  1.11111 0.162682656422\n",
       " 1030  3.33333  3.33333 0.357190789922\n",
       " 1031  5.55556  5.55556 0.342792002815\n",
       " 1032  7.77778  7.77778 0.244914722733\n",
       " 1033     10.0     10.0 0.626817020472"
      ]
     },
     "execution_count": 3,
     "metadata": {},
     "output_type": "execute_result"
    }
   ],
   "source": [
    "data = t.Table( [evid,X,Y,V], names={\"EVENT_ID\",\"DETX\",\"DETY\",\"VALUE\"})\n",
    "data.columns['DETX'].unit = u.m\n",
    "data.meta[\"CREATOR\"] = \"karl\"\n",
    "data"
   ]
  },
  {
   "cell_type": "markdown",
   "metadata": {},
   "source": [
    "add a scalar column"
   ]
  },
  {
   "cell_type": "code",
   "execution_count": 4,
   "metadata": {
    "collapsed": false
   },
   "outputs": [
    {
     "data": {
      "text/html": [
       "&lt;Table masked=False length=10&gt;\n",
       "<table id=\"table4484291920\">\n",
       "<thead><tr><th>DETY</th><th>DETX</th><th>EVENT_ID</th><th>VALUE</th><th>ENERGY</th></tr></thead>\n",
       "<thead><tr><th></th><th>m</th><th>m</th><th>erg</th><th>TeV</th></tr></thead>\n",
       "<thead><tr><th>int64</th><th>float32</th><th>float32</th><th>float64</th><th>float64</th></tr></thead>\n",
       "<tr><td>1024</td><td>-10.0</td><td>-10.0</td><td>0.486492020793</td><td>3.79838838764</td></tr>\n",
       "<tr><td>1025</td><td>-7.77778</td><td>-7.77778</td><td>0.734777434738</td><td>1.53419655623</td></tr>\n",
       "<tr><td>1026</td><td>-5.55556</td><td>-5.55556</td><td>0.911094238364</td><td>8.26214135805</td></tr>\n",
       "<tr><td>1027</td><td>-3.33333</td><td>-3.33333</td><td>0.594988113528</td><td>42.9689112061</td></tr>\n",
       "<tr><td>1028</td><td>-1.11111</td><td>-1.11111</td><td>0.969593849041</td><td>11.3833133852</td></tr>\n",
       "<tr><td>1029</td><td>1.11111</td><td>1.11111</td><td>0.162682656422</td><td>6.55540353696</td></tr>\n",
       "<tr><td>1030</td><td>3.33333</td><td>3.33333</td><td>0.357190789922</td><td>3.63970021986</td></tr>\n",
       "<tr><td>1031</td><td>5.55556</td><td>5.55556</td><td>0.342792002815</td><td>4.87605412057</td></tr>\n",
       "<tr><td>1032</td><td>7.77778</td><td>7.77778</td><td>0.244914722733</td><td>44.7736081525</td></tr>\n",
       "<tr><td>1033</td><td>10.0</td><td>10.0</td><td>0.626817020472</td><td>10.6826857127</td></tr>\n",
       "</table>"
      ],
      "text/plain": [
       "<Table masked=False length=10>\n",
       " DETY   DETX   EVENT_ID     VALUE          ENERGY   \n",
       "         m        m          erg            TeV     \n",
       "int64 float32  float32     float64        float64   \n",
       "----- -------- -------- -------------- -------------\n",
       " 1024    -10.0    -10.0 0.486492020793 3.79838838764\n",
       " 1025 -7.77778 -7.77778 0.734777434738 1.53419655623\n",
       " 1026 -5.55556 -5.55556 0.911094238364 8.26214135805\n",
       " 1027 -3.33333 -3.33333 0.594988113528 42.9689112061\n",
       " 1028 -1.11111 -1.11111 0.969593849041 11.3833133852\n",
       " 1029  1.11111  1.11111 0.162682656422 6.55540353696\n",
       " 1030  3.33333  3.33333 0.357190789922 3.63970021986\n",
       " 1031  5.55556  5.55556 0.342792002815 4.87605412057\n",
       " 1032  7.77778  7.77778 0.244914722733 44.7736081525\n",
       " 1033     10.0     10.0 0.626817020472 10.6826857127"
      ]
     },
     "execution_count": 4,
     "metadata": {},
     "output_type": "execute_result"
    }
   ],
   "source": [
    "energy = np.random.lognormal(2,1,size=10)\n",
    "data['ENERGY'] = energy * u.TeV\n",
    "data"
   ]
  },
  {
   "cell_type": "markdown",
   "metadata": {},
   "source": [
    "add a vector column:"
   ]
  },
  {
   "cell_type": "code",
   "execution_count": 5,
   "metadata": {
    "collapsed": false
   },
   "outputs": [
    {
     "data": {
      "text/html": [
       "&lt;Table masked=False length=10&gt;\n",
       "<table id=\"table4484291920\">\n",
       "<thead><tr><th>DETY</th><th>DETX</th><th>EVENT_ID</th><th>VALUE</th><th>ENERGY</th><th>PIXVALS [5]</th></tr></thead>\n",
       "<thead><tr><th></th><th>m</th><th>m</th><th>erg</th><th>TeV</th><th></th></tr></thead>\n",
       "<thead><tr><th>int64</th><th>float32</th><th>float32</th><th>float64</th><th>float64</th><th>float64</th></tr></thead>\n",
       "<tr><td>1024</td><td>-10.0</td><td>-10.0</td><td>0.486492020793</td><td>3.79838838764</td><td>0.0 .. 0.4</td></tr>\n",
       "<tr><td>1025</td><td>-7.77778</td><td>-7.77778</td><td>0.734777434738</td><td>1.53419655623</td><td>0.5 .. 0.9</td></tr>\n",
       "<tr><td>1026</td><td>-5.55556</td><td>-5.55556</td><td>0.911094238364</td><td>8.26214135805</td><td>1.0 .. 1.4</td></tr>\n",
       "<tr><td>1027</td><td>-3.33333</td><td>-3.33333</td><td>0.594988113528</td><td>42.9689112061</td><td>1.5 .. 1.9</td></tr>\n",
       "<tr><td>1028</td><td>-1.11111</td><td>-1.11111</td><td>0.969593849041</td><td>11.3833133852</td><td>2.0 .. 2.4</td></tr>\n",
       "<tr><td>1029</td><td>1.11111</td><td>1.11111</td><td>0.162682656422</td><td>6.55540353696</td><td>2.5 .. 2.9</td></tr>\n",
       "<tr><td>1030</td><td>3.33333</td><td>3.33333</td><td>0.357190789922</td><td>3.63970021986</td><td>3.0 .. 3.4</td></tr>\n",
       "<tr><td>1031</td><td>5.55556</td><td>5.55556</td><td>0.342792002815</td><td>4.87605412057</td><td>3.5 .. 3.9</td></tr>\n",
       "<tr><td>1032</td><td>7.77778</td><td>7.77778</td><td>0.244914722733</td><td>44.7736081525</td><td>4.0 .. 4.4</td></tr>\n",
       "<tr><td>1033</td><td>10.0</td><td>10.0</td><td>0.626817020472</td><td>10.6826857127</td><td>4.5 .. 4.9</td></tr>\n",
       "</table>"
      ],
      "text/plain": [
       "<Table masked=False length=10>\n",
       " DETY   DETX   EVENT_ID     VALUE          ENERGY    PIXVALS [5]\n",
       "         m        m          erg            TeV                 \n",
       "int64 float32  float32     float64        float64      float64  \n",
       "----- -------- -------- -------------- ------------- -----------\n",
       " 1024    -10.0    -10.0 0.486492020793 3.79838838764  0.0 .. 0.4\n",
       " 1025 -7.77778 -7.77778 0.734777434738 1.53419655623  0.5 .. 0.9\n",
       " 1026 -5.55556 -5.55556 0.911094238364 8.26214135805  1.0 .. 1.4\n",
       " 1027 -3.33333 -3.33333 0.594988113528 42.9689112061  1.5 .. 1.9\n",
       " 1028 -1.11111 -1.11111 0.969593849041 11.3833133852  2.0 .. 2.4\n",
       " 1029  1.11111  1.11111 0.162682656422 6.55540353696  2.5 .. 2.9\n",
       " 1030  3.33333  3.33333 0.357190789922 3.63970021986  3.0 .. 3.4\n",
       " 1031  5.55556  5.55556 0.342792002815 4.87605412057  3.5 .. 3.9\n",
       " 1032  7.77778  7.77778 0.244914722733 44.7736081525  4.0 .. 4.4\n",
       " 1033     10.0     10.0 0.626817020472 10.6826857127  4.5 .. 4.9"
      ]
     },
     "execution_count": 5,
     "metadata": {},
     "output_type": "execute_result"
    }
   ],
   "source": [
    "pixvals = np.arange(10*5).reshape(10,5) * 0.1\n",
    "data['PIXVALS'] = pixvals\n",
    "data"
   ]
  },
  {
   "cell_type": "code",
   "execution_count": 6,
   "metadata": {
    "collapsed": false
   },
   "outputs": [
    {
     "data": {
      "text/html": [
       "&lt;Table masked=False length=10&gt;\n",
       "<table id=\"table4484291920\">\n",
       "<thead><tr><th>DETY</th><th>DETX</th><th>EVENT_ID</th><th>VALUE</th><th>ENERGY</th><th>PIXVALS [5]</th></tr></thead>\n",
       "<thead><tr><th></th><th>m</th><th>m</th><th>erg</th><th>TeV</th><th></th></tr></thead>\n",
       "<thead><tr><th>int64</th><th>float32</th><th>float32</th><th>float64</th><th>float64</th><th>float64</th></tr></thead>\n",
       "<tr><td>1024</td><td>-10.0</td><td>-10.0</td><td>0.486492020793</td><td>3.79838838764</td><td>0.0 .. 1.2</td></tr>\n",
       "<tr><td>1025</td><td>-7.77778</td><td>-7.77778</td><td>0.734777434738</td><td>1.53419655623</td><td>1.5 .. 2.7</td></tr>\n",
       "<tr><td>1026</td><td>-5.55556</td><td>-5.55556</td><td>0.911094238364</td><td>8.26214135805</td><td>3.0 .. 4.2</td></tr>\n",
       "<tr><td>1027</td><td>-3.33333</td><td>-3.33333</td><td>0.594988113528</td><td>42.9689112061</td><td>4.5 .. 5.7</td></tr>\n",
       "<tr><td>1028</td><td>-1.11111</td><td>-1.11111</td><td>0.969593849041</td><td>11.3833133852</td><td>6.0 .. 7.2</td></tr>\n",
       "<tr><td>1029</td><td>1.11111</td><td>1.11111</td><td>0.162682656422</td><td>6.55540353696</td><td>7.5 .. 8.7</td></tr>\n",
       "<tr><td>1030</td><td>3.33333</td><td>3.33333</td><td>0.357190789922</td><td>3.63970021986</td><td>9.0 .. 10.2</td></tr>\n",
       "<tr><td>1031</td><td>5.55556</td><td>5.55556</td><td>0.342792002815</td><td>4.87605412057</td><td>10.5 .. 11.7</td></tr>\n",
       "<tr><td>1032</td><td>7.77778</td><td>7.77778</td><td>0.244914722733</td><td>44.7736081525</td><td>12.0 .. 13.2</td></tr>\n",
       "<tr><td>1033</td><td>10.0</td><td>10.0</td><td>0.626817020472</td><td>10.6826857127</td><td>13.5 .. 14.7</td></tr>\n",
       "</table>"
      ],
      "text/plain": [
       "<Table masked=False length=10>\n",
       " DETY   DETX   EVENT_ID     VALUE          ENERGY    PIXVALS [5] \n",
       "         m        m          erg            TeV                  \n",
       "int64 float32  float32     float64        float64      float64   \n",
       "----- -------- -------- -------------- ------------- ------------\n",
       " 1024    -10.0    -10.0 0.486492020793 3.79838838764   0.0 .. 1.2\n",
       " 1025 -7.77778 -7.77778 0.734777434738 1.53419655623   1.5 .. 2.7\n",
       " 1026 -5.55556 -5.55556 0.911094238364 8.26214135805   3.0 .. 4.2\n",
       " 1027 -3.33333 -3.33333 0.594988113528 42.9689112061   4.5 .. 5.7\n",
       " 1028 -1.11111 -1.11111 0.969593849041 11.3833133852   6.0 .. 7.2\n",
       " 1029  1.11111  1.11111 0.162682656422 6.55540353696   7.5 .. 8.7\n",
       " 1030  3.33333  3.33333 0.357190789922 3.63970021986  9.0 .. 10.2\n",
       " 1031  5.55556  5.55556 0.342792002815 4.87605412057 10.5 .. 11.7\n",
       " 1032  7.77778  7.77778 0.244914722733 44.7736081525 12.0 .. 13.2\n",
       " 1033     10.0     10.0 0.626817020472 10.6826857127 13.5 .. 14.7"
      ]
     },
     "execution_count": 6,
     "metadata": {},
     "output_type": "execute_result"
    }
   ],
   "source": [
    "data['PIXVALS'] *= 3\n",
    "data"
   ]
  },
  {
   "cell_type": "code",
   "execution_count": null,
   "metadata": {
    "collapsed": true
   },
   "outputs": [],
   "source": []
  },
  {
   "cell_type": "code",
   "execution_count": 7,
   "metadata": {
    "collapsed": true
   },
   "outputs": [],
   "source": [
    "from astropy import io"
   ]
  },
  {
   "cell_type": "code",
   "execution_count": 8,
   "metadata": {
    "collapsed": false
   },
   "outputs": [
    {
     "data": {
      "text/html": [
       "&lt;Table masked=False length=36&gt;\n",
       "<table id=\"table4484290192\">\n",
       "<thead><tr><th>Data class</th><th>Format</th><th>Read</th><th>Write</th><th>Auto-identify</th><th>Deprecated</th></tr></thead>\n",
       "<thead><tr><th>string40</th><th>unicode864</th><th>unicode96</th><th>unicode96</th><th>unicode96</th><th>unicode96</th></tr></thead>\n",
       "<tr><td>Table</td><td>ascii</td><td>Yes</td><td>Yes</td><td>No</td><td></td></tr>\n",
       "<tr><td>Table</td><td>ascii.aastex</td><td>Yes</td><td>Yes</td><td>No</td><td></td></tr>\n",
       "<tr><td>Table</td><td>ascii.basic</td><td>Yes</td><td>Yes</td><td>No</td><td></td></tr>\n",
       "<tr><td>Table</td><td>ascii.cds</td><td>Yes</td><td>No</td><td>No</td><td></td></tr>\n",
       "<tr><td>Table</td><td>ascii.commented_header</td><td>Yes</td><td>Yes</td><td>No</td><td></td></tr>\n",
       "<tr><td>Table</td><td>ascii.csv</td><td>Yes</td><td>Yes</td><td>No</td><td></td></tr>\n",
       "<tr><td>Table</td><td>ascii.daophot</td><td>Yes</td><td>No</td><td>No</td><td></td></tr>\n",
       "<tr><td>Table</td><td>ascii.ecsv</td><td>Yes</td><td>Yes</td><td>No</td><td></td></tr>\n",
       "<tr><td>Table</td><td>ascii.fast_basic</td><td>Yes</td><td>Yes</td><td>No</td><td></td></tr>\n",
       "<tr><td>Table</td><td>ascii.fast_commented_header</td><td>Yes</td><td>Yes</td><td>No</td><td></td></tr>\n",
       "<tr><td>...</td><td>...</td><td>...</td><td>...</td><td>...</td><td>...</td></tr>\n",
       "<tr><td>Table</td><td>jsviewer</td><td>No</td><td>Yes</td><td>No</td><td></td></tr>\n",
       "<tr><td>Table</td><td>votable</td><td>Yes</td><td>Yes</td><td>Yes</td><td></td></tr>\n",
       "<tr><td>Table</td><td>aastex</td><td>Yes</td><td>Yes</td><td>No</td><td>Yes</td></tr>\n",
       "<tr><td>Table</td><td>cds</td><td>Yes</td><td>No</td><td>No</td><td>Yes</td></tr>\n",
       "<tr><td>Table</td><td>csv</td><td>Yes</td><td>Yes</td><td>Yes</td><td>Yes</td></tr>\n",
       "<tr><td>Table</td><td>daophot</td><td>Yes</td><td>No</td><td>No</td><td>Yes</td></tr>\n",
       "<tr><td>Table</td><td>html</td><td>Yes</td><td>Yes</td><td>No</td><td>Yes</td></tr>\n",
       "<tr><td>Table</td><td>ipac</td><td>Yes</td><td>Yes</td><td>No</td><td>Yes</td></tr>\n",
       "<tr><td>Table</td><td>latex</td><td>Yes</td><td>Yes</td><td>No</td><td>Yes</td></tr>\n",
       "<tr><td>Table</td><td>rdb</td><td>Yes</td><td>Yes</td><td>No</td><td>Yes</td></tr>\n",
       "</table>"
      ],
      "text/plain": [
       "<Table masked=False length=36>\n",
       "Data class            Format              Read   ... Auto-identify Deprecated\n",
       " string40           unicode864         unicode96 ...   unicode96   unicode96 \n",
       "---------- --------------------------- --------- ... ------------- ----------\n",
       "     Table                       ascii       Yes ...            No           \n",
       "     Table                ascii.aastex       Yes ...            No           \n",
       "     Table                 ascii.basic       Yes ...            No           \n",
       "     Table                   ascii.cds       Yes ...            No           \n",
       "     Table      ascii.commented_header       Yes ...            No           \n",
       "     Table                   ascii.csv       Yes ...            No           \n",
       "     Table               ascii.daophot       Yes ...            No           \n",
       "     Table                  ascii.ecsv       Yes ...            No           \n",
       "     Table            ascii.fast_basic       Yes ...            No           \n",
       "     Table ascii.fast_commented_header       Yes ...            No           \n",
       "       ...                         ...       ... ...           ...        ...\n",
       "     Table                    jsviewer        No ...            No           \n",
       "     Table                     votable       Yes ...           Yes           \n",
       "     Table                      aastex       Yes ...            No        Yes\n",
       "     Table                         cds       Yes ...            No        Yes\n",
       "     Table                         csv       Yes ...           Yes        Yes\n",
       "     Table                     daophot       Yes ...            No        Yes\n",
       "     Table                        html       Yes ...            No        Yes\n",
       "     Table                        ipac       Yes ...            No        Yes\n",
       "     Table                       latex       Yes ...            No        Yes\n",
       "     Table                         rdb       Yes ...            No        Yes"
      ]
     },
     "execution_count": 8,
     "metadata": {},
     "output_type": "execute_result"
    }
   ],
   "source": [
    "io.registry.get_formats()"
   ]
  },
  {
   "cell_type": "code",
   "execution_count": 9,
   "metadata": {
    "collapsed": false
   },
   "outputs": [],
   "source": [
    "def process_data(indata):\n",
    "    x = indata['DETX']\n",
    "    y = indata['DETY']\n",
    "    dist = np.sqrt(x**2+y**2)\n",
    "    indata['DIST'] = dist\n",
    "    return indata\n",
    "\n",
    "def correct_energy(indata):\n",
    "    E = indata['ENERGY']\n",
    "    E += 0.1\n",
    "    return indata"
   ]
  },
  {
   "cell_type": "code",
   "execution_count": 10,
   "metadata": {
    "collapsed": false
   },
   "outputs": [
    {
     "data": {
      "text/html": [
       "&lt;Table masked=False length=10&gt;\n",
       "<table id=\"table4484291920\">\n",
       "<thead><tr><th>DETY</th><th>DETX</th><th>EVENT_ID</th><th>VALUE</th><th>ENERGY</th><th>PIXVALS [5]</th><th>DIST</th></tr></thead>\n",
       "<thead><tr><th></th><th>m</th><th>m</th><th>erg</th><th>TeV</th><th></th><th>m</th></tr></thead>\n",
       "<thead><tr><th>int64</th><th>float32</th><th>float32</th><th>float64</th><th>float64</th><th>float64</th><th>float64</th></tr></thead>\n",
       "<tr><td>1024</td><td>-10.0</td><td>-10.0</td><td>0.486492020793</td><td>3.89838838764</td><td>0.0 .. 1.2</td><td>1024.04882696</td></tr>\n",
       "<tr><td>1025</td><td>-7.77778</td><td>-7.77778</td><td>0.734777434738</td><td>1.63419655623</td><td>1.5 .. 2.7</td><td>1025.02950876</td></tr>\n",
       "<tr><td>1026</td><td>-5.55556</td><td>-5.55556</td><td>0.911094238364</td><td>8.36214135805</td><td>3.0 .. 4.2</td><td>1026.01504092</td></tr>\n",
       "<tr><td>1027</td><td>-3.33333</td><td>-3.33333</td><td>0.594988113528</td><td>43.0689112061</td><td>4.5 .. 5.7</td><td>1027.00540948</td></tr>\n",
       "<tr><td>1028</td><td>-1.11111</td><td>-1.11111</td><td>0.969593849041</td><td>11.4833133852</td><td>6.0 .. 7.2</td><td>1028.00060047</td></tr>\n",
       "<tr><td>1029</td><td>1.11111</td><td>1.11111</td><td>0.162682656422</td><td>6.65540353696</td><td>7.5 .. 8.7</td><td>1029.00059989</td></tr>\n",
       "<tr><td>1030</td><td>3.33333</td><td>3.33333</td><td>0.357190789922</td><td>3.73970021986</td><td>9.0 .. 10.2</td><td>1030.00539373</td></tr>\n",
       "<tr><td>1031</td><td>5.55556</td><td>5.55556</td><td>0.342792002815</td><td>4.97605412057</td><td>10.5 .. 11.7</td><td>1031.01496798</td></tr>\n",
       "<tr><td>1032</td><td>7.77778</td><td>7.77778</td><td>0.244914722733</td><td>44.8736081525</td><td>12.0 .. 13.2</td><td>1032.02930861</td></tr>\n",
       "<tr><td>1033</td><td>10.0</td><td>10.0</td><td>0.626817020472</td><td>10.7826857127</td><td>13.5 .. 14.7</td><td>1033.04840158</td></tr>\n",
       "</table>"
      ],
      "text/plain": [
       "<Table masked=False length=10>\n",
       " DETY   DETX   EVENT_ID     VALUE          ENERGY    PIXVALS [5]       DIST    \n",
       "         m        m          erg            TeV                         m      \n",
       "int64 float32  float32     float64        float64      float64       float64   \n",
       "----- -------- -------- -------------- ------------- ------------ -------------\n",
       " 1024    -10.0    -10.0 0.486492020793 3.89838838764   0.0 .. 1.2 1024.04882696\n",
       " 1025 -7.77778 -7.77778 0.734777434738 1.63419655623   1.5 .. 2.7 1025.02950876\n",
       " 1026 -5.55556 -5.55556 0.911094238364 8.36214135805   3.0 .. 4.2 1026.01504092\n",
       " 1027 -3.33333 -3.33333 0.594988113528 43.0689112061   4.5 .. 5.7 1027.00540948\n",
       " 1028 -1.11111 -1.11111 0.969593849041 11.4833133852   6.0 .. 7.2 1028.00060047\n",
       " 1029  1.11111  1.11111 0.162682656422 6.65540353696   7.5 .. 8.7 1029.00059989\n",
       " 1030  3.33333  3.33333 0.357190789922 3.73970021986  9.0 .. 10.2 1030.00539373\n",
       " 1031  5.55556  5.55556 0.342792002815 4.97605412057 10.5 .. 11.7 1031.01496798\n",
       " 1032  7.77778  7.77778 0.244914722733 44.8736081525 12.0 .. 13.2 1032.02930861\n",
       " 1033     10.0     10.0 0.626817020472 10.7826857127 13.5 .. 14.7 1033.04840158"
      ]
     },
     "execution_count": 10,
     "metadata": {},
     "output_type": "execute_result"
    }
   ],
   "source": [
    "process_data(data)\n",
    "correct_energy(data)\n",
    "data"
   ]
  },
  {
   "cell_type": "code",
   "execution_count": 11,
   "metadata": {
    "collapsed": false
   },
   "outputs": [
    {
     "data": {
      "text/html": [
       "&lt;Table masked=False length=10&gt;\n",
       "<table id=\"table4484291920\">\n",
       "<thead><tr><th>DETY</th><th>DETX</th><th>EVENT_ID</th><th>ENERGY</th><th>PIXVALS [5]</th><th>DIST</th></tr></thead>\n",
       "<thead><tr><th></th><th>m</th><th>m</th><th>TeV</th><th></th><th>m</th></tr></thead>\n",
       "<thead><tr><th>int64</th><th>float32</th><th>float32</th><th>float64</th><th>float64</th><th>float64</th></tr></thead>\n",
       "<tr><td>1024</td><td>-10.0</td><td>-10.0</td><td>3.89838838764</td><td>0.0 .. 1.2</td><td>1024.04882696</td></tr>\n",
       "<tr><td>1025</td><td>-7.77778</td><td>-7.77778</td><td>1.63419655623</td><td>1.5 .. 2.7</td><td>1025.02950876</td></tr>\n",
       "<tr><td>1026</td><td>-5.55556</td><td>-5.55556</td><td>8.36214135805</td><td>3.0 .. 4.2</td><td>1026.01504092</td></tr>\n",
       "<tr><td>1027</td><td>-3.33333</td><td>-3.33333</td><td>43.0689112061</td><td>4.5 .. 5.7</td><td>1027.00540948</td></tr>\n",
       "<tr><td>1028</td><td>-1.11111</td><td>-1.11111</td><td>11.4833133852</td><td>6.0 .. 7.2</td><td>1028.00060047</td></tr>\n",
       "<tr><td>1029</td><td>1.11111</td><td>1.11111</td><td>6.65540353696</td><td>7.5 .. 8.7</td><td>1029.00059989</td></tr>\n",
       "<tr><td>1030</td><td>3.33333</td><td>3.33333</td><td>3.73970021986</td><td>9.0 .. 10.2</td><td>1030.00539373</td></tr>\n",
       "<tr><td>1031</td><td>5.55556</td><td>5.55556</td><td>4.97605412057</td><td>10.5 .. 11.7</td><td>1031.01496798</td></tr>\n",
       "<tr><td>1032</td><td>7.77778</td><td>7.77778</td><td>44.8736081525</td><td>12.0 .. 13.2</td><td>1032.02930861</td></tr>\n",
       "<tr><td>1033</td><td>10.0</td><td>10.0</td><td>10.7826857127</td><td>13.5 .. 14.7</td><td>1033.04840158</td></tr>\n",
       "</table>"
      ],
      "text/plain": [
       "<Table masked=False length=10>\n",
       " DETY   DETX   EVENT_ID     ENERGY    PIXVALS [5]       DIST    \n",
       "         m        m          TeV                         m      \n",
       "int64 float32  float32     float64      float64       float64   \n",
       "----- -------- -------- ------------- ------------ -------------\n",
       " 1024    -10.0    -10.0 3.89838838764   0.0 .. 1.2 1024.04882696\n",
       " 1025 -7.77778 -7.77778 1.63419655623   1.5 .. 2.7 1025.02950876\n",
       " 1026 -5.55556 -5.55556 8.36214135805   3.0 .. 4.2 1026.01504092\n",
       " 1027 -3.33333 -3.33333 43.0689112061   4.5 .. 5.7 1027.00540948\n",
       " 1028 -1.11111 -1.11111 11.4833133852   6.0 .. 7.2 1028.00060047\n",
       " 1029  1.11111  1.11111 6.65540353696   7.5 .. 8.7 1029.00059989\n",
       " 1030  3.33333  3.33333 3.73970021986  9.0 .. 10.2 1030.00539373\n",
       " 1031  5.55556  5.55556 4.97605412057 10.5 .. 11.7 1031.01496798\n",
       " 1032  7.77778  7.77778 44.8736081525 12.0 .. 13.2 1032.02930861\n",
       " 1033     10.0     10.0 10.7826857127 13.5 .. 14.7 1033.04840158"
      ]
     },
     "execution_count": 11,
     "metadata": {},
     "output_type": "execute_result"
    }
   ],
   "source": [
    "del data['VALUE']\n",
    "data"
   ]
  },
  {
   "cell_type": "code",
   "execution_count": 14,
   "metadata": {
    "collapsed": false
   },
   "outputs": [
    {
     "name": "stdout",
     "output_type": "stream",
     "text": [
      "<Row 0 of table\n",
      " values=(1024, -10.0, -10.0, 3.898388387639396, [0.0, 0.30000000000000004, 0.6000000000000001, 0.9000000000000001, 1.2000000000000002], 1024.0488269609023)\n",
      " dtype=[('DETY', '<i8'), ('DETX', '<f4'), ('EVENT_ID', '<f4'), ('ENERGY', '<f8'), ('PIXVALS', '<f8', (5,)), ('DIST', '<f8')]>\n"
     ]
    }
   ],
   "source": [
    "# rows give back a recarray \n",
    "print data[0]"
   ]
  },
  {
   "cell_type": "code",
   "execution_count": 18,
   "metadata": {
    "collapsed": false
   },
   "outputs": [
    {
     "name": "stdout",
     "output_type": "stream",
     "text": [
      "[ (1024, -10.0, -10.0, 3.898388387639396, [0.0, 0.30000000000000004, 0.6000000000000001, 0.9000000000000001, 1.2000000000000002], 1024.0488269609023)\n",
      " (1025, -7.777777671813965, -7.777777671813965, 1.6341965562291882, [1.5, 1.8000000000000003, 2.1, 2.4000000000000004, 2.7], 1025.0295087576771)\n",
      " (1026, -5.55555534362793, -5.55555534362793, 8.36214135805351, [3.0, 3.3000000000000003, 3.6000000000000005, 3.9000000000000004, 4.2], 1026.0150409203902)\n",
      " (1027, -3.3333330154418945, -3.3333330154418945, 43.0689112060886, [4.5, 4.800000000000001, 5.1000000000000005, 5.4, 5.7], 1027.005409483699)\n",
      " (1028, -1.1111106872558594, -1.1111106872558594, 11.483313385166465, [6.0, 6.300000000000001, 6.6000000000000005, 6.9, 7.200000000000001], 1028.00060047012)\n",
      " (1029, 1.1111116409301758, 1.1111116409301758, 6.655403536957618, [7.5, 7.800000000000001, 8.100000000000001, 8.4, 8.700000000000001], 1029.0005998876156)\n",
      " (1030, 3.333333969116211, 3.333333969116211, 3.7397002198575326, [9.0, 9.3, 9.600000000000001, 9.9, 10.200000000000001], 1030.0053937312443)\n",
      " (1031, 5.555556297302246, 5.555556297302246, 4.976054120571133, [10.5, 10.8, 11.100000000000001, 11.4, 11.700000000000001], 1031.0149679836438)\n",
      " (1032, 7.777778625488281, 7.777778625488281, 44.87360815254798, [12.0, 12.3, 12.600000000000001, 12.899999999999999, 13.200000000000001], 1032.0293086144713)\n",
      " (1033, 10.0, 10.0, 10.782685712653352, [13.5, 13.8, 14.100000000000001, 14.400000000000002, 14.700000000000001], 1033.0484015766153)]\n",
      "OrderedDict([('CREATOR', 'karl')])\n"
     ]
    }
   ],
   "source": [
    "# can also convert the whole thing into a recarray\n",
    "# *copies the data*\n",
    "# makes it possible to write using fitsio, though!\n",
    "print data.as_array()\n",
    "print data.meta"
   ]
  },
  {
   "cell_type": "code",
   "execution_count": 19,
   "metadata": {
    "collapsed": false
   },
   "outputs": [
    {
     "name": "stdout",
     "output_type": "stream",
     "text": [
      "The slowest run took 8.92 times longer than the fastest. This could mean that an intermediate result is being cached \n",
      "100000 loops, best of 3: 3.58 µs per loop\n"
     ]
    }
   ],
   "source": [
    "%timeit correct_energy(data)"
   ]
  },
  {
   "cell_type": "code",
   "execution_count": null,
   "metadata": {
    "collapsed": true
   },
   "outputs": [],
   "source": []
  }
 ],
 "metadata": {
  "kernelspec": {
   "display_name": "Python 2",
   "language": "python",
   "name": "python2"
  },
  "language_info": {
   "codemirror_mode": {
    "name": "ipython",
    "version": 2
   },
   "file_extension": ".py",
   "mimetype": "text/x-python",
   "name": "python",
   "nbconvert_exporter": "python",
   "pygments_lexer": "ipython2",
   "version": "2.7.9"
  }
 },
 "nbformat": 4,
 "nbformat_minor": 0
}
