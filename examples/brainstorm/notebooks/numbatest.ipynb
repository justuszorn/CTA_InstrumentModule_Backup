{
 "cells": [
  {
   "cell_type": "code",
   "execution_count": 52,
   "metadata": {
    "collapsed": false
   },
   "outputs": [
    {
     "name": "stdout",
     "output_type": "stream",
     "text": [
      "Once deleted, variables cannot be recovered. Proceed (y/[n])? y\n"
     ]
    }
   ],
   "source": [
    "%reset\n",
    "from numba import jit\n",
    "import numpy as np\n",
    "from matplotlib import pylab as plt\n",
    "from matplotlib.patches import Ellipse\n",
    "%matplotlib inline"
   ]
  },
  {
   "cell_type": "markdown",
   "metadata": {},
   "source": [
    "# setup: \n",
    "try a basic algorithm using a for-loop"
   ]
  },
  {
   "cell_type": "code",
   "execution_count": 53,
   "metadata": {
    "collapsed": false
   },
   "outputs": [
    {
     "data": {
      "image/png": "[encoded data removed]",
      "text/plain": [
       "<matplotlib.figure.Figure at 0x108f84b70>"
      ]
     },
     "metadata": {},
     "output_type": "display_data"
    }
   ],
   "source": [
    "X = np.linspace(-10,10,100)\n",
    "Y = np.linspace(-10,10,100)\n",
    "XX,YY = np.meshgrid(X,Y)\n",
    "pixels = np.exp(-(XX**2)/4.0) * np.exp(-(YY**2)/16.0)\n",
    "pixels[pixels<0.6] = 0\n",
    "plt.imshow(pixels)\n",
    "numpix = len(X) * len(Y)"
   ]
  },
  {
   "cell_type": "code",
   "execution_count": 54,
   "metadata": {
    "collapsed": false
   },
   "outputs": [
    {
     "name": "stdout",
     "output_type": "stream",
     "text": [
      "10000\n"
     ]
    }
   ],
   "source": [
    "print( len(XX.ravel()) )"
   ]
  },
  {
   "cell_type": "code",
   "execution_count": 55,
   "metadata": {
    "collapsed": false
   },
   "outputs": [
    {
     "data": {
      "text/plain": [
       "(-1.5376588891058418e-14, -8.881784197001252e-16)"
      ]
     },
     "execution_count": 55,
     "metadata": {},
     "output_type": "execute_result"
    }
   ],
   "source": [
    "def algo(pixels,X,Y, numpix):\n",
    "    sum_x = 0\n",
    "    sum_y = 0\n",
    "    for ii in range(numpix):\n",
    "        sum_x += X[ii] * pixels[ii]\n",
    "        sum_y += Y[ii] * pixels[ii]\n",
    "        \n",
    "    return sum_x,sum_y\n",
    "\n",
    "fastalgo = jit(algo) # apply the decorator\n",
    "fastalgo(pixels.ravel(),XX.ravel(),YY.ravel(), numpix)\n",
    "\n",
    "fastalgo2 = jit(algo, nopython=True) # apply the decorator\n",
    "fastalgo2(pixels.ravel(),XX.ravel(),YY.ravel(), numpix)\n",
    "\n",
    "fastalgo3 = jit(algo, nopython=True,nogil=True) # apply the decorator\n",
    "fastalgo3(pixels.ravel(),XX.ravel(),YY.ravel(), numpix)\n"
   ]
  },
  {
   "cell_type": "code",
   "execution_count": 56,
   "metadata": {
    "collapsed": false
   },
   "outputs": [
    {
     "name": "stdout",
     "output_type": "stream",
     "text": [
      "100 loops, best of 3: 6.79 ms per loop\n",
      "100000 loops, best of 3: 10.6 µs per loop\n",
      "100000 loops, best of 3: 10.5 µs per loop\n",
      "100000 loops, best of 3: 10.7 µs per loop\n"
     ]
    }
   ],
   "source": [
    "%timeit algo(pixels.ravel(),XX.ravel(),YY.ravel(),numpix)\n",
    "%timeit fastalgo(pixels.ravel(),XX.ravel(),YY.ravel(),numpix)\n",
    "%timeit fastalgo2(pixels.ravel(),XX.ravel(),YY.ravel(),numpix)\n",
    "%timeit fastalgo3(pixels.ravel(),XX.ravel(),YY.ravel(),numpix)"
   ]
  },
  {
   "cell_type": "code",
   "execution_count": 57,
   "metadata": {
    "collapsed": false
   },
   "outputs": [
    {
     "name": "stdout",
     "output_type": "stream",
     "text": [
      "algo (array(float64, 1d, C), array(float64, 1d, C), array(float64, 1d, C), int64)\n",
      "--------------------------------------------------------------------------------\n",
      "# File: <ipython-input-55-508ba05415c7>\n",
      "# --- LINE 1 --- \n",
      "\n",
      "def algo(pixels,X,Y, numpix):\n",
      "\n",
      "    # --- LINE 2 --- \n",
      "    # label 0\n",
      "    #   pixels = arg(0, name=pixels)  :: array(float64, 1d, C)\n",
      "    #   X = arg(1, name=X)  :: array(float64, 1d, C)\n",
      "    #   Y = arg(2, name=Y)  :: array(float64, 1d, C)\n",
      "    #   numpix = arg(3, name=numpix)  :: int64\n",
      "    #   $const0.1 = const(int, 0)  :: int32\n",
      "    #   sum_x = $const0.1  :: float64\n",
      "    #   del $const0.1\n",
      "\n",
      "    sum_x = 0\n",
      "\n",
      "    # --- LINE 3 --- \n",
      "    #   $const0.2 = const(int, 0)  :: int32\n",
      "    #   sum_y = $const0.2  :: float64\n",
      "    #   del $const0.2\n",
      "\n",
      "    sum_y = 0\n",
      "\n",
      "    # --- LINE 4 --- \n",
      "    #   jump 12\n",
      "    # label 12\n",
      "    #   $12.1 = global(range: <class 'range'>)  :: range\n",
      "    #   $12.3 = call $12.1(numpix, )  :: (int64,) -> range_state64\n",
      "    #   del numpix\n",
      "    #   del $12.1\n",
      "    #   $12.4 = getiter(value=$12.3)  :: range_iter64\n",
      "    #   del $12.3\n",
      "    #   $phi25.1 = $12.4  :: range_iter64\n",
      "    #   del $12.4\n",
      "    #   jump 25\n",
      "    # label 25\n",
      "    #   $25.2 = iternext(value=$phi25.1)  :: pair<int64, bool>\n",
      "    #   $25.3 = pair_first(value=$25.2)  :: int64\n",
      "    #   $25.4 = pair_second(value=$25.2)  :: bool\n",
      "    #   del $25.2\n",
      "    #   $phi28.1 = $25.3  :: int64\n",
      "    #   del $25.3\n",
      "    #   branch $25.4, 28, 78\n",
      "    # label 28\n",
      "    #   ii = $phi28.1  :: int64\n",
      "    #   del $phi28.1\n",
      "\n",
      "    for ii in range(numpix):\n",
      "\n",
      "        # --- LINE 5 --- \n",
      "        #   $28.5 = getitem(value=X, index=ii)  :: float64\n",
      "        #   $28.8 = getitem(value=pixels, index=ii)  :: float64\n",
      "        #   $28.9 = $28.5 * $28.8  :: float64\n",
      "        #   del $28.8\n",
      "        #   del $28.5\n",
      "        #   $28.10 = inplace_binop(rhs=$28.9, lhs=sum_x, fn=+)  :: float64\n",
      "        #   del $28.9\n",
      "        #   sum_x = $28.10  :: float64\n",
      "        #   del $28.10\n",
      "\n",
      "        sum_x += X[ii] * pixels[ii]\n",
      "\n",
      "        # --- LINE 6 --- \n",
      "        #   $28.14 = getitem(value=Y, index=ii)  :: float64\n",
      "        #   $28.17 = getitem(value=pixels, index=ii)  :: float64\n",
      "        #   del ii\n",
      "        #   $28.18 = $28.14 * $28.17  :: float64\n",
      "        #   del $28.17\n",
      "        #   del $28.14\n",
      "        #   $28.19 = inplace_binop(rhs=$28.18, lhs=sum_y, fn=+)  :: float64\n",
      "        #   del $28.18\n",
      "        #   sum_y = $28.19  :: float64\n",
      "        #   del $28.19\n",
      "        #   jump 25\n",
      "        # label 78\n",
      "        #   del pixels\n",
      "        #   del Y\n",
      "        #   del X\n",
      "        #   del $phi28.1\n",
      "        #   del $phi25.1\n",
      "        #   del $25.4\n",
      "\n",
      "        sum_y += Y[ii] * pixels[ii]\n",
      "\n",
      "# --- LINE 7 --- \n",
      "\n",
      "\n",
      "\n",
      "    # --- LINE 8 --- \n",
      "    #   jump 79\n",
      "    # label 79\n",
      "    #   $79.3 = build_tuple(items=[Var(sum_x, <ipython-input-55-508ba05415c7> (2)), Var(sum_y, <ipython-input-55-508ba05415c7> (3))])  :: (float64, float64)\n",
      "    #   del sum_y\n",
      "    #   del sum_x\n",
      "    #   $79.4 = cast(value=$79.3)  :: (float64, float64)\n",
      "    #   del $79.3\n",
      "    #   return $79.4\n",
      "\n",
      "    return sum_x,sum_y\n",
      "\n",
      "\n",
      "================================================================================\n"
     ]
    }
   ],
   "source": [
    "fastalgo.inspect_types()"
   ]
  },
  {
   "cell_type": "markdown",
   "metadata": {},
   "source": [
    "try a NumPy-only version and see what Numba does to it:"
   ]
  },
  {
   "cell_type": "code",
   "execution_count": 61,
   "metadata": {
    "collapsed": false
   },
   "outputs": [
    {
     "data": {
      "text/plain": [
       "(-1.7486012637846216e-14, -1.7486012637846216e-14)"
      ]
     },
     "execution_count": 61,
     "metadata": {},
     "output_type": "execute_result"
    }
   ],
   "source": [
    "def npalgo(pixels,X,Y,numpix=10000):    \n",
    "    return np.sum(pixels*X),np.sum(pixels*Y)\n",
    "\n",
    "fastnpalgo = jit(npalgo)\n",
    "fastnpalgo(pixels,X,Y)"
   ]
  },
  {
   "cell_type": "code",
   "execution_count": 62,
   "metadata": {
    "collapsed": false
   },
   "outputs": [
    {
     "name": "stdout",
     "output_type": "stream",
     "text": [
      "The slowest run took 5.29 times longer than the fastest. This could mean that an intermediate result is being cached \n",
      "10000 loops, best of 3: 39.4 µs per loop\n",
      "10000 loops, best of 3: 39.1 µs per loop\n"
     ]
    }
   ],
   "source": [
    "%timeit npalgo(pixels,X,Y)\n",
    "%timeit fastnpalgo(pixels,X,Y)"
   ]
  },
  {
   "cell_type": "markdown",
   "metadata": {},
   "source": [
    "#conclusion:\n",
    "so the conclusion is that writing functions that use _NumPy_ properly gives you very fast speed. If you don't use NumPy to avoid all loops, you should use Numba to optimize the function, and you get similar results (sometimes a factor of 10 faster!)"
   ]
  },
  {
   "cell_type": "markdown",
   "metadata": {},
   "source": [
    "Let's try soe other Numba features:\n",
    "## turn a func into a ufunc:"
   ]
  },
  {
   "cell_type": "code",
   "execution_count": 63,
   "metadata": {
    "collapsed": true
   },
   "outputs": [],
   "source": [
    "import numba\n",
    "from numba import int32,float32,float64,int64\n",
    "import numpy as np\n",
    "\n",
    "@numba.vectorize([int32(int32, int32),\n",
    "            int64(int64, int64),\n",
    "            float32(float32, float32),\n",
    "            float64(float64, float64)])\n",
    "def plork(a,b):\n",
    "    return a**2 + b**2"
   ]
  },
  {
   "cell_type": "code",
   "execution_count": 64,
   "metadata": {
    "collapsed": false
   },
   "outputs": [
    {
     "data": {
      "text/plain": [
       "array([ 104.04,  105.04,  108.04,  113.04,  120.04,  129.04,  140.04,\n",
       "        153.04,  168.04,  185.04])"
      ]
     },
     "execution_count": 64,
     "metadata": {},
     "output_type": "execute_result"
    }
   ],
   "source": [
    "plork( np.arange(10), 10.2 )"
   ]
  },
  {
   "cell_type": "code",
   "execution_count": 65,
   "metadata": {
    "collapsed": false
   },
   "outputs": [
    {
     "data": {
      "text/plain": [
       "array([ 26.        ,  15.72839506,   8.02469136,   2.88888889,\n",
       "         0.32098765,   0.32098765,   2.88888889,   8.02469136,\n",
       "        15.72839506,  26.        ])"
      ]
     },
     "execution_count": 65,
     "metadata": {},
     "output_type": "execute_result"
    }
   ],
   "source": [
    "plork( np.linspace(-1,1,10),np.linspace(-5,5,10))"
   ]
  },
  {
   "cell_type": "code",
   "execution_count": 77,
   "metadata": {
    "collapsed": false
   },
   "outputs": [
    {
     "data": {
      "text/plain": [
       "array([ -5.00000000e-01,   4.90001020e-01,   4.70307101e-01,\n",
       "         4.41804013e-01,   4.06419232e-01,   3.67222302e-01,\n",
       "         3.27919253e-01,   2.91823456e-01,   2.60882794e-01,\n",
       "         2.35415204e-01,   2.14613258e-01,   1.97293418e-01,\n",
       "         1.82404950e-01,   1.69201573e-01,   1.57212990e-01,\n",
       "         1.46157614e-01,   1.35865670e-01,   1.26229096e-01,\n",
       "         1.17173454e-01,   1.08643403e-01,   1.00595349e-01,\n",
       "         9.29936207e-02,   8.58083073e-02,   7.90139176e-02,\n",
       "         7.25884701e-02,   6.65128366e-02,   6.07702486e-02,\n",
       "         5.53459157e-02,   5.02267251e-02,   4.54010016e-02,\n",
       "         4.08583125e-02,   3.65893078e-02,   3.25855890e-02,\n",
       "         2.88395984e-02,   2.53445273e-02,   2.20942377e-02,\n",
       "         1.90831967e-02,   1.63064192e-02,   1.37594204e-02,\n",
       "         1.14381738e-02,   9.33907588e-03,   7.45891510e-03,\n",
       "         5.79484570e-03,   4.34436485e-03,   3.10529326e-03,\n",
       "         2.07575855e-03,   1.25418124e-03,   6.39263002e-04,\n",
       "         2.29977069e-04,   2.55604907e-05,   2.55082546e-05,\n",
       "         2.29569062e-04,   6.37742734e-04,   1.25027918e-03,\n",
       "         2.06767890e-03,   3.09069505e-03,   4.32033701e-03,\n",
       "         5.75787560e-03,   7.40484990e-03,   9.26307586e-03,\n",
       "         1.13346567e-02,   1.36219955e-02,   1.61278096e-02,\n",
       "         1.88551476e-02,   2.18074093e-02,   2.49883679e-02,\n",
       "         2.84021963e-02,   3.20534963e-02,   3.59473328e-02,\n",
       "         4.00892723e-02,   4.44854275e-02,   4.91425080e-02,\n",
       "         5.40678787e-02,   5.92696267e-02,   6.47566393e-02,\n",
       "         7.05386932e-02,   7.66265592e-02,   8.30321234e-02,\n",
       "         8.97685300e-02,   9.68503490e-02,   1.04293774e-01,\n",
       "         1.12116861e-01,   1.20339806e-01,   1.28985291e-01,\n",
       "         1.38078895e-01,   1.47649599e-01,   1.57730411e-01,\n",
       "         1.68359140e-01,   1.79579368e-01,   1.91441689e-01,\n",
       "         2.04005292e-01,   2.17340024e-01,   2.31529105e-01,\n",
       "         2.46672761e-01,   2.62893160e-01,   2.80341260e-01,\n",
       "         2.99206465e-01,   3.19730610e-01,   3.42228683e-01,\n",
       "         3.67120472e-01])"
      ]
     },
     "execution_count": 77,
     "metadata": {},
     "output_type": "execute_result"
    }
   ],
   "source": [
    "A = np.linspace(-1,1,100)*0.5\n",
    "A.reshape(10,10)\n",
    "plork.accumulate( A,axis=0)"
   ]
  },
  {
   "cell_type": "code",
   "execution_count": null,
   "metadata": {
    "collapsed": true
   },
   "outputs": [],
   "source": []
  },
  {
   "cell_type": "code",
   "execution_count": 78,
   "metadata": {
    "collapsed": false
   },
   "outputs": [],
   "source": [
    "def hillas_parameters(x, y, s):\n",
    "    \"\"\"Compute Hillas parameters for a given shower image.\n",
    "\n",
    "    Reference: Appendix of the Whipple Crab paper Weekes et al. (1998) \n",
    "    http://adsabs.harvard.edu/abs/1989ApJ...342..379W\n",
    "    (corrected for some obvious typos) \n",
    "\n",
    "    Parameters\n",
    "    ----------\n",
    "    x : array_like\n",
    "        Pixel x-coordinate\n",
    "    y : array_like\n",
    "        Pixel y-coordinate\n",
    "    s : array_like\n",
    "        Pixel value\n",
    "\n",
    "    Returns\n",
    "    -------\n",
    "    hillas_parameters : dict\n",
    "        Dictionary of Hillas parameters\n",
    "    \"\"\"\n",
    "    x = np.asanyarray(x, dtype=np.float64)\n",
    "    y = np.asanyarray(y, dtype=np.float64)\n",
    "    s = np.asanyarray(s, dtype=np.float64)\n",
    "    assert x.shape == s.shape\n",
    "    assert y.shape == s.shape\n",
    "\n",
    "    # Compute image moments\n",
    "    # note these may be pre-computed for even more speed, rather than computed at each call\n",
    "    _s = np.sum(s)\n",
    "    m_x = np.sum(s * x) / _s\n",
    "    m_y = np.sum(s * y) / _s\n",
    "    m_xx = np.sum(s * x**2) / _s  # note: typo in paper\n",
    "    m_yy = np.sum(s * y**2) / _s\n",
    "    m_xy = np.sum(s * x * y) / _s  # note: typo in paper\n",
    "\n",
    "    # Compute major axis line representation y = a * x + b\n",
    "    S_xx = m_xx - m_x * m_x\n",
    "    S_yy = m_yy - m_y * m_y\n",
    "    S_xy = m_xy - m_x * m_y\n",
    "    d = S_yy - S_xx\n",
    "    temp = d**2 + 4 * S_xy * S_xy\n",
    "    a = (d + np.sqrt(temp)) / (2 * S_xy)\n",
    "    b = m_y - a * m_x\n",
    "\n",
    "    # Compute Hillas parameters\n",
    "    width_2 = (S_yy + a**2 * S_xx - 2 * a * S_xy) / (1 + a**2)\n",
    "    width = np.sqrt(width_2)\n",
    "    length_2 = (S_xx + a**2 * S_yy + 2 * a * S_xy) / (1 + a**2)\n",
    "    length = np.sqrt(length_2)\n",
    "    miss = np.abs(b / (1 + a**2))\n",
    "    r = np.sqrt(m_x**2 + m_y**2)\n",
    "\n",
    "    # Compute azwidth by transforming to (p, q) coordinates\n",
    "    sin_theta = m_y / r\n",
    "    cos_theta = m_x / r\n",
    "    q = (m_x - x) * sin_theta + (y - m_y) * cos_theta\n",
    "    m_q = np.sum(s * q) / _s\n",
    "    m_qq = np.sum(s * q**2) / _s\n",
    "    azwidth_2 = m_qq - m_q**2\n",
    "    azwidth = np.sqrt(azwidth_2)\n",
    "\n",
    "    # Return relevant parameters in a dict\n",
    "    return dict(x= m_x, y= m_y, \n",
    "                a = a, b = b,\n",
    "                width=width,\n",
    "                length=length,\n",
    "                miss = miss,\n",
    "                r = r,\n",
    "                azwidth=azwidth)\n"
   ]
  },
  {
   "cell_type": "code",
   "execution_count": 83,
   "metadata": {
    "collapsed": false
   },
   "outputs": [
    {
     "name": "stdout",
     "output_type": "stream",
     "text": [
      "10000 loops, best of 3: 193 µs per loop\n",
      "10000 loops, best of 3: 65.8 µs per loop\n"
     ]
    }
   ],
   "source": [
    "%timeit -n 10000  hillas_parameters( XX,YY,pixels )\n",
    "\n",
    "# now on only the non-zero pixels:\n",
    "mask=pixels>1e-10\n",
    "%timeit hillas_parameters( XX[mask],YY[mask],pixels[mask])"
   ]
  },
  {
   "cell_type": "code",
   "execution_count": 81,
   "metadata": {
    "collapsed": false
   },
   "outputs": [
    {
     "name": "stdout",
     "output_type": "stream",
     "text": [
      "1000 loops, best of 3: 214 µs per loop\n"
     ]
    }
   ],
   "source": [
    "numba_hillas_parameters = jit(hillas_parameters)\n",
    "numba_hillas_parameters( XX,YY,pixels )\n",
    "%timeit numba_hillas_parameters( XX,YY,pixels )"
   ]
  },
  {
   "cell_type": "code",
   "execution_count": 84,
   "metadata": {
    "collapsed": false
   },
   "outputs": [
    {
     "data": {
      "image/png": "[encoded data removed]",
      "text/plain": [
       "<matplotlib.figure.Figure at 0x108df3550>"
      ]
     },
     "metadata": {},
     "output_type": "display_data"
    }
   ],
   "source": [
    "\n",
    "pixels[20:25,20:25] = 0.5\n",
    "\n",
    "plt.pcolormesh(X,Y,pixels)\n",
    "params = hillas_parameters(XX,YY,pixels)\n",
    "hillas_ellipse = Ellipse( xy=(params['x'],params['y']), \n",
    "                          width=params['width'], \n",
    "                          height=params['length'])\n",
    "hillas_ellipse.set_edgecolor('white') \n",
    "hillas_ellipse.set_facecolor('none') \n",
    "hillas_ellipse.set_linewidth(3)\n",
    "hillas_ellipse.set_alpha(0.8)\n",
    "\n",
    "\n",
    "ax = plt.gca()\n",
    "ax.add_artist(hillas_ellipse)\n",
    "plt.show()\n"
   ]
  },
  {
   "cell_type": "markdown",
   "metadata": {
    "collapsed": true
   },
   "source": []
  },
  {
   "cell_type": "code",
   "execution_count": null,
   "metadata": {
    "collapsed": true
   },
   "outputs": [],
   "source": []
  }
 ],
 "metadata": {
  "kernelspec": {
   "display_name": "Python 3",
   "language": "python",
   "name": "python3"
  },
  "language_info": {
   "codemirror_mode": {
    "name": "ipython",
    "version": 3
   },
   "file_extension": ".py",
   "mimetype": "text/x-python",
   "name": "python",
   "nbconvert_exporter": "python",
   "pygments_lexer": "ipython3",
   "version": "3.4.3"
  }
 },
 "nbformat": 4,
 "nbformat_minor": 0
}
